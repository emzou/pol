{
 "cells": [
  {
   "cell_type": "code",
   "execution_count": null,
   "metadata": {},
   "outputs": [],
   "source": [
    "from pathlib import Path \n",
    "from bs4 import BeautifulSoup\n",
    "import json\n",
    "import pandas as pd \n",
    "import re \n",
    "from lingua import Language, LanguageDetectorBuilder\n",
    "from datetime import datetime\n",
    "import os"
   ]
  },
  {
   "cell_type": "code",
   "execution_count": null,
   "metadata": {},
   "outputs": [],
   "source": [
    "## putting the processed entire thread data together\n",
    "directory = \"redata\"\n",
    "output_file = 'raw_merged_sep22_jun23.txt'\n",
    "content_list = []\n",
    "\n",
    "for filename in os.listdir(directory):\n",
    "    if filename.endswith('.txt'):\n",
    "        file_path = os.path.join(directory, filename)\n",
    "        with open(file_path, 'r', encoding='utf-8') as file:\n",
    "            content = file.read()\n",
    "            content_list.append(content)\n",
    "\n",
    "merged_content = '\\n\\n'.join(content_list)\n",
    "\n",
    "with open(output_file, 'w', encoding='utf-8') as output:\n",
    "    output.write(merged_content)"
   ]
  },
  {
   "cell_type": "code",
   "execution_count": null,
   "metadata": {},
   "outputs": [],
   "source": [
    "def read_file_as_string(file_path):\n",
    "    text = Path(file_path).read_text(encoding='utf-8')\n",
    "    return text\n",
    "\n",
    "filepath = '/Users/emilyzou/Desktop/pol/raw_merged_sep22_jun23.txt'\n",
    "text = read_file_as_string(filepath)"
   ]
  },
  {
   "cell_type": "code",
   "execution_count": null,
   "metadata": {},
   "outputs": [],
   "source": [
    "def return_json (input_string): \n",
    "    html = input_string\n",
    "    soup = BeautifulSoup(html, 'html.parser')\n",
    "    soup = BeautifulSoup(input_string, 'html.parser')\n",
    "    posts_data = []\n",
    "    for post_wrapper in soup.find_all(\"div\", class_=\"post_wrapper\"):\n",
    "        post_data = {\n",
    "            \"post_data\": {\n",
    "                \"author\": post_wrapper.find(\"span\", class_=\"post_author\").text.strip() if post_wrapper.find(\"span\", class_=\"post_author\") else \"\",\n",
    "                \"tripcode\": post_wrapper.find(\"span\", class_=\"post_tripcode\").text.strip() if post_wrapper.find(\"span\", class_=\"post_tripcode\") else \"\",\n",
    "                \"poster_hash\": post_wrapper.find(\"span\", class_=\"poster_hash\").text.strip() if post_wrapper.find(\"span\", class_=\"poster_hash\") else \"\",\n",
    "                \"datetime\": post_wrapper.find(\"time\")[\"datetime\"] if post_wrapper.find(\"time\") else \"\",\n",
    "                \"time_text\": post_wrapper.find(\"time\").text.strip() if post_wrapper.find(\"time\") else \"\",\n",
    "                \"post_id\": post_wrapper.find(\"a\", {\"data-function\": \"quote\"})[\"data-post\"] if post_wrapper.find(\"a\", {\"data-function\": \"quote\"}) else \"\",\n",
    "                \"post_link\": post_wrapper.find(\"a\", {\"data-function\": \"quote\"})[\"href\"] if post_wrapper.find(\"a\", {\"data-function\": \"quote\"}) else \"\"\n",
    "            },\n",
    "            \"controls\": {\n",
    "                \"controls_links\": [\n",
    "                    control.get(\"href\", \"#\") for control in post_wrapper.select(\".post_controls a\")\n",
    "                ]\n",
    "            },\n",
    "            \"backlink_list\": {\n",
    "                \"quoted_by\": [\n",
    "                    backlink[\"data-post\"] for backlink in post_wrapper.select(\".post_backlink\")\n",
    "                ]\n",
    "            },\n",
    "            \"text_content\": {\n",
    "                \"text\": post_wrapper.find(\"div\", class_=\"text\").get_text(separator=\"\\n\").strip() if post_wrapper.find(\"div\", class_=\"text\") else \"\",\n",
    "                \"greentext_links\": [\n",
    "                    link[\"href\"] for link in post_wrapper.find_all(\"a\", class_=\"backlink\") if link\n",
    "                ]\n",
    "            }\n",
    "        }\n",
    "        posts_data.append(post_data)\n",
    "    json_output = json.dumps(posts_data, indent=4)\n",
    "    return json_output"
   ]
  },
  {
   "cell_type": "code",
   "execution_count": null,
   "metadata": {},
   "outputs": [],
   "source": [
    "with open('all_articles.json', 'r') as file:\n",
    "    json_literal_string = file.read()\n",
    "data = json.loads(json_literal_string)\n",
    "df = pd.DataFrame([(key, item) for key, values in data.items() for item in values], columns=['Thread', 'Content'])\n",
    "df['ID'] = df['Content'].str.extract(r'^\\S+ ID:([\\w\\d]+)')\n",
    "df['No'] = df['Content'].str.extract(r'\\bNo\\.(\\d+)\\b')\n",
    "df['Date'] = df['Content'].str.extract(r'\\b(\\w{3} \\d{1,2} \\w{3} \\d{4} \\d{2}:\\d{2}:\\d{2})\\b')\n",
    "df['Literal'] = df['Content'].apply(repr)\n",
    "df['LosingIt'] = df['Literal'].str.split('Report', n=1).str[1]\n",
    "df['OnlyQuotes'] = df['LosingIt'].apply(lambda x: x if 'Quoted By' in x else [])\n",
    "df['Quoted'] = df['OnlyQuotes'].apply(lambda x: re.search(r'(\\\\n.*?\\\\n)', x).group(0) if x.count('\\\\n') > 1 else \"\")\n",
    "df['Quotes'] = df['Quoted'].apply(lambda x: re.findall(r'>>(\\d+)', x))\n",
    "df['Reply1'] = df.apply(lambda row: row['LosingIt'].replace(row['Quoted'], ''), axis=1)\n",
    "df['Replies'] = df['Reply1'].apply(lambda x: re.findall(r'>>(\\d+)', x))\n",
    "df['Text'] = df['Content'].apply(lambda x: x.split(\"\\n\")[-1])"
   ]
  },
  {
   "cell_type": "code",
   "execution_count": null,
   "metadata": {},
   "outputs": [],
   "source": [
    "adf = df[['Thread', 'ID', 'No', 'Date', 'Quotes', 'Replies', 'Text']]"
   ]
  },
  {
   "cell_type": "code",
   "execution_count": null,
   "metadata": {},
   "outputs": [],
   "source": [
    "adflist = [m for m in adf['No']]\n",
    "root_id_list = [m for m in root_dei if m in adflist]\n"
   ]
  }
 ],
 "metadata": {
  "kernelspec": {
   "display_name": "Python 3.10.5 64-bit",
   "language": "python",
   "name": "python3"
  },
  "language_info": {
   "name": "python",
   "version": "3.10.5"
  },
  "orig_nbformat": 4,
  "vscode": {
   "interpreter": {
    "hash": "aee8b7b246df8f9039afb4144a1f6fd8d2ca17a180786b69acc140d282b71a49"
   }
  }
 },
 "nbformat": 4,
 "nbformat_minor": 2
}
