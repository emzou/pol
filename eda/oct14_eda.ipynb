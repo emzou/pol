{
 "cells": [
  {
   "cell_type": "code",
   "execution_count": 1,
   "metadata": {},
   "outputs": [],
   "source": [
    "import os \n",
    "directory = '/Users/emilyzou/Desktop/pol/pol_sep23_24_data'\n",
    "output_file = 'raw_merged_23_24.txt'\n",
    "content_list = []\n",
    "\n",
    "for filename in os.listdir(directory):\n",
    "    if filename.endswith('.txt'):\n",
    "        file_path = os.path.join(directory, filename)\n",
    "        with open(file_path, 'r', encoding='utf-8') as file:\n",
    "            content = file.read()\n",
    "            content_list.append(content)\n",
    "\n",
    "merged_content = '\\n\\n'.join(content_list)\n",
    "\n",
    "with open(output_file, 'w', encoding='utf-8') as output:\n",
    "    output.write(merged_content)"
   ]
  },
  {
   "cell_type": "code",
   "execution_count": 1,
   "metadata": {},
   "outputs": [],
   "source": [
    "import pandas as pd\n",
    "from pathlib import Path \n",
    "txt = Path (\"/Users/emilyzou/Desktop/pol/raw_merged_23_24.txt\").read_text()"
   ]
  },
  {
   "cell_type": "code",
   "execution_count": 2,
   "metadata": {},
   "outputs": [],
   "source": [
    "txt_list = txt.split('Anonymous ID:')"
   ]
  },
  {
   "cell_type": "code",
   "execution_count": 3,
   "metadata": {},
   "outputs": [],
   "source": [
    "txt_list = txt_list[1:]"
   ]
  },
  {
   "cell_type": "code",
   "execution_count": 4,
   "metadata": {},
   "outputs": [],
   "source": [
    "txt_df = pd.DataFrame(txt_list, columns = ['Raw_Text'])"
   ]
  },
  {
   "cell_type": "code",
   "execution_count": 5,
   "metadata": {},
   "outputs": [],
   "source": [
    "import re\n",
    "def anonidget (elem): \n",
    "    return elem.split()[0] if elem else '' \n",
    " \n",
    "def date_get(s): \n",
    "    pattern = r'\\b\\w{3} \\d{1,2} \\w{3} \\d{4} \\d{2}:\\d{2}:\\d{2}\\b'\n",
    "    match = re.search(pattern, s)\n",
    "    result = match.group(0) if match else ''\n",
    "    return result \n",
    "\n",
    "def threadnoget (s): \n",
    "    match = re.search(r'No\\.\\s*(\\S+)', s)\n",
    "    result = match.group(1) if match else ''\n",
    "    return result "
   ]
  },
  {
   "cell_type": "code",
   "execution_count": 6,
   "metadata": {},
   "outputs": [],
   "source": [
    "txt_df['Anon_Id'] = txt_df['Raw_Text'].apply(anonidget)\n",
    "txt_df['Date'] = txt_df['Raw_Text'].apply(date_get)\n",
    "txt_df['Thread_No'] = txt_df['Raw_Text'].apply(threadnoget)"
   ]
  },
  {
   "cell_type": "code",
   "execution_count": 7,
   "metadata": {},
   "outputs": [],
   "source": [
    "def Raw_Strip (s): \n",
    "    return s['Raw_Text'].replace(s['Anon_Id'], '').replace(s['Date'], '').replace(s['Thread_No'], '').strip()\n",
    "\n",
    "txt_df['Raw_Text'] = txt_df.apply(Raw_Strip, axis = 1)"
   ]
  },
  {
   "cell_type": "code",
   "execution_count": 8,
   "metadata": {},
   "outputs": [],
   "source": [
    "def process_string(s):\n",
    "    if \"ViewReport\\n>>\" in s:\n",
    "        # Extract everything after \"ViewReport\\n>>\" and before the next \"\\n\"\n",
    "        match = re.search(r'ViewReport\\n>>\\s*(.*?)\\n', s)\n",
    "        if match:\n",
    "            extracted = match.group(1)\n",
    "        else:\n",
    "            extracted = \"\"\n",
    "    #elif \"ViewReport\\n\" in s:\n",
    "        #extracted = \"Original Post\" man this doesn't work idk why\n",
    "    else:\n",
    "        extracted = \"\"\n",
    "    \n",
    "    # Remove the extracted part from the original string\n",
    "    s = s.replace(match.group(0) if match else \"ViewReport\\n\", \"\").strip() if extracted else s\n",
    "    return extracted, s\n",
    "\n",
    "# Apply the function to the DataFrame\n",
    "txt_df[['OP_ID', 'Raw_Text']] = txt_df['Raw_Text'].apply(process_string).apply(pd.Series)"
   ]
  },
  {
   "cell_type": "code",
   "execution_count": 9,
   "metadata": {},
   "outputs": [],
   "source": [
    "txt_df ['Raw_Text'] = txt_df ['Raw_Text'].str.replace('ViewReport\\n', '', regex=False).str[3:]"
   ]
  },
  {
   "cell_type": "code",
   "execution_count": 10,
   "metadata": {},
   "outputs": [],
   "source": [
    "# stop so I can just iterate from here and not have to refill the whole dataframe\n",
    "\n",
    "df = txt_df"
   ]
  },
  {
   "cell_type": "code",
   "execution_count": 11,
   "metadata": {},
   "outputs": [],
   "source": [
    "def process_quotes(s):\n",
    "    if \"Quoted By\" in s: \n",
    "        return re.findall(r'>>(\\d+)\\n', s)\n",
    "    else:\n",
    "        modified_string = s  # No modification needed if \"Quoted By\" is not present\n",
    "        return \"No Quote\"\n",
    "\n",
    "df['Quoted_By'] = df['Raw_Text'].apply(process_quotes)"
   ]
  },
  {
   "cell_type": "code",
   "execution_count": 12,
   "metadata": {},
   "outputs": [],
   "source": [
    "def stripper (s): \n",
    "    if 'Quoted By' in s:\n",
    "        cleaned_string = re.sub(r'Quoted By:|>>\\d+\\n', '', s)\n",
    "        return cleaned_string.strip()\n",
    "    else: \n",
    "        return s\n",
    "\n",
    "df ['Raw_Text'] = df['Raw_Text'].apply(stripper)"
   ]
  },
  {
   "cell_type": "code",
   "execution_count": 13,
   "metadata": {},
   "outputs": [
    {
     "data": {
      "text/html": [
       "<div>\n",
       "<style scoped>\n",
       "    .dataframe tbody tr th:only-of-type {\n",
       "        vertical-align: middle;\n",
       "    }\n",
       "\n",
       "    .dataframe tbody tr th {\n",
       "        vertical-align: top;\n",
       "    }\n",
       "\n",
       "    .dataframe thead th {\n",
       "        text-align: right;\n",
       "    }\n",
       "</style>\n",
       "<table border=\"1\" class=\"dataframe\">\n",
       "  <thead>\n",
       "    <tr style=\"text-align: right;\">\n",
       "      <th></th>\n",
       "      <th>Raw_Text</th>\n",
       "      <th>Anon_Id</th>\n",
       "      <th>Date</th>\n",
       "      <th>Thread_No</th>\n",
       "      <th>OP_ID</th>\n",
       "      <th>Quoted_By</th>\n",
       "    </tr>\n",
       "  </thead>\n",
       "  <tbody>\n",
       "    <tr>\n",
       "      <th>0</th>\n",
       "      <td>It is related to DEI and competency crisis.\\...</td>\n",
       "      <td>yFUanOPB</td>\n",
       "      <td>Sat 09 Mar 2024 20:39:26</td>\n",
       "      <td>461263750</td>\n",
       "      <td>461257045</td>\n",
       "      <td>No Quote</td>\n",
       "    </tr>\n",
       "    <tr>\n",
       "      <th>1</th>\n",
       "      <td>Trump will be brought in to be the face of p...</td>\n",
       "      <td>Lt8ieyIP</td>\n",
       "      <td>Sat 09 Mar 2024 20:31:51</td>\n",
       "      <td>461263238</td>\n",
       "      <td></td>\n",
       "      <td>No Quote</td>\n",
       "    </tr>\n",
       "    <tr>\n",
       "      <th>2</th>\n",
       "      <td>Replies: 307 Quick Rundown:\\n&gt;DEI-gaming con...</td>\n",
       "      <td>FgT2N7yy</td>\n",
       "      <td>Sat 09 Mar 2024 20:20:31</td>\n",
       "      <td>461262420</td>\n",
       "      <td></td>\n",
       "      <td>No Quote</td>\n",
       "    </tr>\n",
       "    <tr>\n",
       "      <th>3</th>\n",
       "      <td>Literally went from lets get all the top PhD...</td>\n",
       "      <td>IQ6yXVHK</td>\n",
       "      <td>Sat 09 Mar 2024 20:14:10</td>\n",
       "      <td>461262002</td>\n",
       "      <td>461260339</td>\n",
       "      <td>No Quote</td>\n",
       "    </tr>\n",
       "    <tr>\n",
       "      <th>4</th>\n",
       "      <td>&gt;Hire a bunch niggers and stronk wimminz bec...</td>\n",
       "      <td>NZSRUfr4</td>\n",
       "      <td>Sat 09 Mar 2024 20:00:52</td>\n",
       "      <td>461261105</td>\n",
       "      <td>461257045</td>\n",
       "      <td>No Quote</td>\n",
       "    </tr>\n",
       "    <tr>\n",
       "      <th>...</th>\n",
       "      <td>...</td>\n",
       "      <td>...</td>\n",
       "      <td>...</td>\n",
       "      <td>...</td>\n",
       "      <td>...</td>\n",
       "      <td>...</td>\n",
       "    </tr>\n",
       "    <tr>\n",
       "      <th>27462</th>\n",
       "      <td>you guys should just make a tiktok or go pla...</td>\n",
       "      <td>o2CnyGXy</td>\n",
       "      <td>Tue 19 Mar 2024 21:44:46</td>\n",
       "      <td>462315146</td>\n",
       "      <td></td>\n",
       "      <td>No Quote</td>\n",
       "    </tr>\n",
       "    <tr>\n",
       "      <th>27463</th>\n",
       "      <td>There are no \"unwanted children.\" There are ...</td>\n",
       "      <td>v2iK7B74</td>\n",
       "      <td>Tue 19 Mar 2024 21:44:42</td>\n",
       "      <td>462315138</td>\n",
       "      <td>462315021</td>\n",
       "      <td>No Quote</td>\n",
       "    </tr>\n",
       "    <tr>\n",
       "      <th>27464</th>\n",
       "      <td>are these judges DEI by any chance?</td>\n",
       "      <td>O+2SWXRz</td>\n",
       "      <td>Tue 19 Mar 2024 21:40:44</td>\n",
       "      <td>462314863</td>\n",
       "      <td>462314293</td>\n",
       "      <td>No Quote</td>\n",
       "    </tr>\n",
       "    <tr>\n",
       "      <th>27474</th>\n",
       "      <td>Replies: 5 What's up with all the glowie gov...</td>\n",
       "      <td>bzTTEyYj</td>\n",
       "      <td>Tue 19 Mar 2024 16:49:19</td>\n",
       "      <td>462293764</td>\n",
       "      <td></td>\n",
       "      <td>No Quote</td>\n",
       "    </tr>\n",
       "    <tr>\n",
       "      <th>27496</th>\n",
       "      <td>Replies: 48  &gt;&gt;462262176 &gt;&gt;462264638 This isn’...</td>\n",
       "      <td>V9I+qpqv</td>\n",
       "      <td>Tue 19 Mar 2024 10:53:57</td>\n",
       "      <td>462261969</td>\n",
       "      <td></td>\n",
       "      <td>[462267138]</td>\n",
       "    </tr>\n",
       "  </tbody>\n",
       "</table>\n",
       "<p>26150 rows × 6 columns</p>\n",
       "</div>"
      ],
      "text/plain": [
       "                                                Raw_Text   Anon_Id  \\\n",
       "0        It is related to DEI and competency crisis.\\...  yFUanOPB   \n",
       "1        Trump will be brought in to be the face of p...  Lt8ieyIP   \n",
       "2        Replies: 307 Quick Rundown:\\n>DEI-gaming con...  FgT2N7yy   \n",
       "3        Literally went from lets get all the top PhD...  IQ6yXVHK   \n",
       "4        >Hire a bunch niggers and stronk wimminz bec...  NZSRUfr4   \n",
       "...                                                  ...       ...   \n",
       "27462    you guys should just make a tiktok or go pla...  o2CnyGXy   \n",
       "27463    There are no \"unwanted children.\" There are ...  v2iK7B74   \n",
       "27464                are these judges DEI by any chance?  O+2SWXRz   \n",
       "27474    Replies: 5 What's up with all the glowie gov...  bzTTEyYj   \n",
       "27496  Replies: 48  >>462262176 >>462264638 This isn’...  V9I+qpqv   \n",
       "\n",
       "                           Date  Thread_No      OP_ID    Quoted_By  \n",
       "0      Sat 09 Mar 2024 20:39:26  461263750  461257045     No Quote  \n",
       "1      Sat 09 Mar 2024 20:31:51  461263238                No Quote  \n",
       "2      Sat 09 Mar 2024 20:20:31  461262420                No Quote  \n",
       "3      Sat 09 Mar 2024 20:14:10  461262002  461260339     No Quote  \n",
       "4      Sat 09 Mar 2024 20:00:52  461261105  461257045     No Quote  \n",
       "...                         ...        ...        ...          ...  \n",
       "27462  Tue 19 Mar 2024 21:44:46  462315146                No Quote  \n",
       "27463  Tue 19 Mar 2024 21:44:42  462315138  462315021     No Quote  \n",
       "27464  Tue 19 Mar 2024 21:40:44  462314863  462314293     No Quote  \n",
       "27474  Tue 19 Mar 2024 16:49:19  462293764                No Quote  \n",
       "27496  Tue 19 Mar 2024 10:53:57  462261969             [462267138]  \n",
       "\n",
       "[26150 rows x 6 columns]"
      ]
     },
     "execution_count": 13,
     "metadata": {},
     "output_type": "execute_result"
    }
   ],
   "source": [
    "_df = df.drop_duplicates(subset = ['Raw_Text', 'Anon_Id', 'Date', 'Thread_No', 'OP_ID'], keep = 'first')\n",
    "_df"
   ]
  },
  {
   "cell_type": "code",
   "execution_count": 14,
   "metadata": {},
   "outputs": [],
   "source": [
    "gf = _df"
   ]
  },
  {
   "cell_type": "code",
   "execution_count": 15,
   "metadata": {},
   "outputs": [
    {
     "name": "stderr",
     "output_type": "stream",
     "text": [
      "/var/folders/b9/j4cr1qk10pgfhhshk13f4zgm0000gn/T/ipykernel_35331/2663785028.py:1: SettingWithCopyWarning: \n",
      "A value is trying to be set on a copy of a slice from a DataFrame.\n",
      "Try using .loc[row_indexer,col_indexer] = value instead\n",
      "\n",
      "See the caveats in the documentation: https://pandas.pydata.org/pandas-docs/stable/user_guide/indexing.html#returning-a-view-versus-a-copy\n",
      "  gf['Date'] = pd.to_datetime(gf['Date'], format='%a %d %b %Y %H:%M:%S')\n"
     ]
    }
   ],
   "source": [
    "gf['Date'] = pd.to_datetime(gf['Date'], format='%a %d %b %Y %H:%M:%S')\n",
    "\n",
    "# time series visualization, converting dates into week buckets\n",
    "start_date = '2023-09-01'\n",
    "end_date = \"2024-09-30\"\n",
    "\n",
    "gf = gf[(gf['Date'] >= start_date) & (gf['Date'] <= end_date)]\n",
    "gf ['Week'] = gf['Date'].dt.to_period('W').apply(lambda r: r.start_time)\n",
    "\n",
    "weekly_counts = gf['Week'].value_counts().reset_index()\n",
    "weekly_counts.columns = ['Week', 'Count']"
   ]
  },
  {
   "cell_type": "code",
   "execution_count": 16,
   "metadata": {},
   "outputs": [],
   "source": [
    "weekly_counts = weekly_counts.sort_values('Week')"
   ]
  },
  {
   "cell_type": "code",
   "execution_count": 17,
   "metadata": {},
   "outputs": [],
   "source": [
    "import matplotlib.pyplot as plt \n",
    "import matplotlib.dates as mdates\n",
    "date = weekly_counts['Week'] \n",
    "value = weekly_counts ['Count']"
   ]
  },
  {
   "cell_type": "code",
   "execution_count": 18,
   "metadata": {},
   "outputs": [
    {
     "data": {
      "image/png": "[encoded data removed]",
      "text/plain": [
       "<Figure size 1200x600 with 1 Axes>"
      ]
     },
     "metadata": {},
     "output_type": "display_data"
    }
   ],
   "source": [
    "plt.figure(figsize=(12, 6))\n",
    "plt.plot(date, value, marker='o', linestyle='-', color='b')\n",
    "\n",
    "plt.gca().xaxis.set_major_locator(mdates.MonthLocator())\n",
    "plt.gca().xaxis.set_major_formatter(mdates.DateFormatter('%Y-%m'))\n",
    "\n",
    "# Adding titles and labels\n",
    "plt.title('Weekly Counts of \"DEI\" Usage in /pol/ Time Series', fontsize=16)\n",
    "plt.xlabel('Week', fontsize=14)\n",
    "plt.ylabel('Count', fontsize=14)\n",
    "plt.xticks(rotation=45)\n",
    "plt.grid()\n",
    "\n",
    "# Show the plot\n",
    "plt.tight_layout()\n",
    "plt.show()"
   ]
  },
  {
   "cell_type": "code",
   "execution_count": 19,
   "metadata": {},
   "outputs": [],
   "source": [
    "tf = _df"
   ]
  },
  {
   "cell_type": "code",
   "execution_count": 20,
   "metadata": {},
   "outputs": [
    {
     "name": "stderr",
     "output_type": "stream",
     "text": [
      "/var/folders/b9/j4cr1qk10pgfhhshk13f4zgm0000gn/T/ipykernel_35331/3006464786.py:14: SettingWithCopyWarning: \n",
      "A value is trying to be set on a copy of a slice from a DataFrame.\n",
      "Try using .loc[row_indexer,col_indexer] = value instead\n",
      "\n",
      "See the caveats in the documentation: https://pandas.pydata.org/pandas-docs/stable/user_guide/indexing.html#returning-a-view-versus-a-copy\n",
      "  tf[['Replies', 'Raw_Text']] = tf['Raw_Text'].apply(lambda x: pd.Series(extract_replies(x)))\n"
     ]
    }
   ],
   "source": [
    "#i should have done this earlier... \n",
    "\n",
    "def extract_replies(text):\n",
    "    match = re.search(r'Replies:\\s*(\\d+)', text)\n",
    "    if match:\n",
    "        replies_count = int(match.group(1))\n",
    "        # Remove the \"Replies: digits\" part from the text\n",
    "        cleaned_text = re.sub(r'Replies:\\s*\\d+', '', text).strip()\n",
    "        return replies_count, cleaned_text\n",
    "    else:\n",
    "        return None, text  # Return None if no match found\n",
    "\n",
    "# Apply the function to the 'raw_text' column\n",
    "tf[['Replies', 'Raw_Text']] = tf['Raw_Text'].apply(lambda x: pd.Series(extract_replies(x)))"
   ]
  },
  {
   "cell_type": "code",
   "execution_count": 21,
   "metadata": {},
   "outputs": [
    {
     "name": "stderr",
     "output_type": "stream",
     "text": [
      "/var/folders/b9/j4cr1qk10pgfhhshk13f4zgm0000gn/T/ipykernel_35331/421163139.py:11: SettingWithCopyWarning: \n",
      "A value is trying to be set on a copy of a slice from a DataFrame.\n",
      "Try using .loc[row_indexer,col_indexer] = value instead\n",
      "\n",
      "See the caveats in the documentation: https://pandas.pydata.org/pandas-docs/stable/user_guide/indexing.html#returning-a-view-versus-a-copy\n",
      "  tf[['Replied_To', 'Raw_Text']] = tf['Raw_Text'].apply(lambda x: pd.Series(extract_replied_to(x)))\n"
     ]
    }
   ],
   "source": [
    "def extract_replied_to(text):\n",
    "    # Find all occurrences of the pattern\n",
    "    replied_to_matches = re.findall(r'>>(\\d+)', text)\n",
    "    # Join matches into a single string (if needed) or keep as a list\n",
    "    replied_to = replied_to_matches if replied_to_matches else None\n",
    "    # Remove the pattern from the original text\n",
    "    cleaned_text = re.sub(r'>>\\d+', '', text).strip()\n",
    "    return replied_to, cleaned_text\n",
    "\n",
    "# Apply the function to the 'raw_text' column\n",
    "tf[['Replied_To', 'Raw_Text']] = tf['Raw_Text'].apply(lambda x: pd.Series(extract_replied_to(x)))\n"
   ]
  },
  {
   "cell_type": "code",
   "execution_count": 22,
   "metadata": {},
   "outputs": [
    {
     "name": "stderr",
     "output_type": "stream",
     "text": [
      "[nltk_data] Downloading package punkt to /Users/emilyzou/nltk_data...\n",
      "[nltk_data]   Package punkt is already up-to-date!\n",
      "/var/folders/b9/j4cr1qk10pgfhhshk13f4zgm0000gn/T/ipykernel_35331/557037197.py:5: SettingWithCopyWarning: \n",
      "A value is trying to be set on a copy of a slice from a DataFrame.\n",
      "Try using .loc[row_indexer,col_indexer] = value instead\n",
      "\n",
      "See the caveats in the documentation: https://pandas.pydata.org/pandas-docs/stable/user_guide/indexing.html#returning-a-view-versus-a-copy\n",
      "  tf['Raw_Tokens'] = tf['Raw_Text'].apply(nltk.word_tokenize)\n",
      "/var/folders/b9/j4cr1qk10pgfhhshk13f4zgm0000gn/T/ipykernel_35331/557037197.py:11: SettingWithCopyWarning: \n",
      "A value is trying to be set on a copy of a slice from a DataFrame.\n",
      "Try using .loc[row_indexer,col_indexer] = value instead\n",
      "\n",
      "See the caveats in the documentation: https://pandas.pydata.org/pandas-docs/stable/user_guide/indexing.html#returning-a-view-versus-a-copy\n",
      "  tf['Raw_Tokens_Lower'] = tf['Raw_Tokens'].apply(cleanlower)\n"
     ]
    }
   ],
   "source": [
    "import nltk \n",
    "import string \n",
    "nltk.download('punkt')\n",
    "\n",
    "tf['Raw_Tokens'] = tf['Raw_Text'].apply(nltk.word_tokenize)\n",
    "\n",
    "\n",
    "def cleanlower (m): \n",
    "    return [s.lower() for s in m if s not in string.punctuation]\n",
    "\n",
    "tf['Raw_Tokens_Lower'] = tf['Raw_Tokens'].apply(cleanlower)"
   ]
  },
  {
   "cell_type": "code",
   "execution_count": 23,
   "metadata": {},
   "outputs": [],
   "source": [
    "tf.to_csv('Oct14_Merged_Token_Dei.csv')"
   ]
  },
  {
   "cell_type": "code",
   "execution_count": 24,
   "metadata": {},
   "outputs": [
    {
     "name": "stderr",
     "output_type": "stream",
     "text": [
      "/var/folders/b9/j4cr1qk10pgfhhshk13f4zgm0000gn/T/ipykernel_35331/1951315825.py:3: SettingWithCopyWarning: \n",
      "A value is trying to be set on a copy of a slice from a DataFrame.\n",
      "Try using .loc[row_indexer,col_indexer] = value instead\n",
      "\n",
      "See the caveats in the documentation: https://pandas.pydata.org/pandas-docs/stable/user_guide/indexing.html#returning-a-view-versus-a-copy\n",
      "  tf ['Month'] = tf['Date'].dt.to_period('M')\n"
     ]
    }
   ],
   "source": [
    "from sklearn.feature_extraction.text import CountVectorizer \n",
    "\n",
    "tf ['Month'] = tf['Date'].dt.to_period('M')\n",
    "\n",
    "vectorizer = CountVectorizer(stop_words='english')\n",
    "X = vectorizer.fit_transform(tf['Raw_Text'])"
   ]
  },
  {
   "cell_type": "markdown",
   "metadata": {},
   "source": [
    "co_occurrence_df = pd.DataFrame(X.toarray(), columns=vectorizer.get_feature_names_out(), index=tf['Month'])"
   ]
  },
  {
   "cell_type": "markdown",
   "metadata": {},
   "source": [
    "if 'dei' in co_occurrence_df.columns:\n",
    "    co_occurring_words = co_occurrence_df.loc[:, co_occurrence_df.columns != 'dei']\n",
    "    co_occurring_with_DEI = co_occurring_words * co_occurrence_df['dei'].values[:, None]\n",
    "\n",
    "    trends = co_occurring_with_DEI.groupby(co_occurrence_df.index).sum()\n",
    "else:\n",
    "    print('\"DEI\" not found in the text data.')"
   ]
  },
  {
   "cell_type": "code",
   "execution_count": null,
   "metadata": {},
   "outputs": [],
   "source": []
  }
 ],
 "metadata": {
  "kernelspec": {
   "display_name": "Python 3.9.12 ('base')",
   "language": "python",
   "name": "python3"
  },
  "language_info": {
   "codemirror_mode": {
    "name": "ipython",
    "version": 3
   },
   "file_extension": ".py",
   "mimetype": "text/x-python",
   "name": "python",
   "nbconvert_exporter": "python",
   "pygments_lexer": "ipython3",
   "version": "3.9.12"
  },
  "orig_nbformat": 4,
  "vscode": {
   "interpreter": {
    "hash": "dda3671ff3204f7c08d6fd700d73245b2febe83cbc27407a5dbd57f565cde480"
   }
  }
 },
 "nbformat": 4,
 "nbformat_minor": 2
}
