{
 "cells": [
  {
   "cell_type": "code",
   "execution_count": 23,
   "metadata": {},
   "outputs": [],
   "source": [
    "import pandas as pd\n",
    "from pathlib import Path \n",
    "txt = Path (\"/Users/emilyzou/Desktop/pol/pol_sep23_24_data/9_23_all_articles.txt\").read_text()"
   ]
  },
  {
   "cell_type": "code",
   "execution_count": 25,
   "metadata": {},
   "outputs": [],
   "source": [
    "import pandas as pd\n",
    "from pathlib import Path \n",
    "txt = Path (\"/Users/emilyzou/Desktop/pol/pol_sep23_24_data/12_23all_articles.txt\").read_text()"
   ]
  },
  {
   "cell_type": "code",
   "execution_count": 26,
   "metadata": {},
   "outputs": [],
   "source": [
    "txt_list = txt.split('Anonymous ID:')\n",
    "# split the text by ID "
   ]
  },
  {
   "cell_type": "code",
   "execution_count": 22,
   "metadata": {},
   "outputs": [
    {
     "data": {
      "text/plain": [
       "'P8hFIcP3 Mon 25 Dec 2023 15:36:49\\n4chan Time: 12/25/23(Mon)18:36\\n No.453050969  Replies: 3 ViewReport\\nSancta Maria\\ngratia plena\\nDominus tecum\\nBenedicta tu in mulieribus\\net benedicus fructus ventris tui Jesus\\nSancta Maria\\nmater Dei\\nora pro nobis pecatoribus\\nNunc et in hora mortis nostrae\\nAmen\\n\\n'"
      ]
     },
     "execution_count": 22,
     "metadata": {},
     "output_type": "execute_result"
    }
   ],
   "source": [
    "txt_list[145]"
   ]
  },
  {
   "cell_type": "code",
   "execution_count": 27,
   "metadata": {},
   "outputs": [],
   "source": [
    "txt_list = txt_list[1:]\n"
   ]
  },
  {
   "cell_type": "code",
   "execution_count": 28,
   "metadata": {},
   "outputs": [],
   "source": [
    "txt_df = pd.DataFrame(txt_list, columns = ['Raw_Text'])"
   ]
  },
  {
   "cell_type": "code",
   "execution_count": 8,
   "metadata": {},
   "outputs": [
    {
     "data": {
      "text/html": [
       "<div>\n",
       "<style scoped>\n",
       "    .dataframe tbody tr th:only-of-type {\n",
       "        vertical-align: middle;\n",
       "    }\n",
       "\n",
       "    .dataframe tbody tr th {\n",
       "        vertical-align: top;\n",
       "    }\n",
       "\n",
       "    .dataframe thead th {\n",
       "        text-align: right;\n",
       "    }\n",
       "</style>\n",
       "<table border=\"1\" class=\"dataframe\">\n",
       "  <thead>\n",
       "    <tr style=\"text-align: right;\">\n",
       "      <th></th>\n",
       "      <th>Raw_Text</th>\n",
       "    </tr>\n",
       "  </thead>\n",
       "  <tbody>\n",
       "    <tr>\n",
       "      <th>0</th>\n",
       "      <td>yaNHupza Sat 30 Dec 2023 18:45:00 No.453560084...</td>\n",
       "    </tr>\n",
       "    <tr>\n",
       "      <th>1</th>\n",
       "      <td>SoVAW3IN Sat 30 Dec 2023 17:15:10 No.453553253...</td>\n",
       "    </tr>\n",
       "    <tr>\n",
       "      <th>2</th>\n",
       "      <td>NqjUL9LT Sat 30 Dec 2023 15:39:49 No.453545224...</td>\n",
       "    </tr>\n",
       "    <tr>\n",
       "      <th>3</th>\n",
       "      <td>ju0FjS2G Sat 30 Dec 2023 13:36:43 No.453533850...</td>\n",
       "    </tr>\n",
       "    <tr>\n",
       "      <th>4</th>\n",
       "      <td>c3Laqy+S Sat 30 Dec 2023 13:25:53 No.453532748...</td>\n",
       "    </tr>\n",
       "    <tr>\n",
       "      <th>...</th>\n",
       "      <td>...</td>\n",
       "    </tr>\n",
       "    <tr>\n",
       "      <th>742</th>\n",
       "      <td>ODWJr2UF Fri 01 Dec 2023 12:03:21 No.450576254...</td>\n",
       "    </tr>\n",
       "    <tr>\n",
       "      <th>743</th>\n",
       "      <td>XoDb3eAr Fri 01 Dec 2023 11:54:20 No.450575532...</td>\n",
       "    </tr>\n",
       "    <tr>\n",
       "      <th>744</th>\n",
       "      <td>CJcEcwRI Fri 01 Dec 2023 07:10:30 No.450552351...</td>\n",
       "    </tr>\n",
       "    <tr>\n",
       "      <th>745</th>\n",
       "      <td>qyXy5ck6 Fri 01 Dec 2023 06:47:08 No.450550626...</td>\n",
       "    </tr>\n",
       "    <tr>\n",
       "      <th>746</th>\n",
       "      <td>NYrnWHI4 Fri 01 Dec 2023 02:45:10 No.450535694...</td>\n",
       "    </tr>\n",
       "  </tbody>\n",
       "</table>\n",
       "<p>747 rows × 1 columns</p>\n",
       "</div>"
      ],
      "text/plain": [
       "                                              Raw_Text\n",
       "0    yaNHupza Sat 30 Dec 2023 18:45:00 No.453560084...\n",
       "1    SoVAW3IN Sat 30 Dec 2023 17:15:10 No.453553253...\n",
       "2    NqjUL9LT Sat 30 Dec 2023 15:39:49 No.453545224...\n",
       "3    ju0FjS2G Sat 30 Dec 2023 13:36:43 No.453533850...\n",
       "4    c3Laqy+S Sat 30 Dec 2023 13:25:53 No.453532748...\n",
       "..                                                 ...\n",
       "742  ODWJr2UF Fri 01 Dec 2023 12:03:21 No.450576254...\n",
       "743  XoDb3eAr Fri 01 Dec 2023 11:54:20 No.450575532...\n",
       "744  CJcEcwRI Fri 01 Dec 2023 07:10:30 No.450552351...\n",
       "745  qyXy5ck6 Fri 01 Dec 2023 06:47:08 No.450550626...\n",
       "746  NYrnWHI4 Fri 01 Dec 2023 02:45:10 No.450535694...\n",
       "\n",
       "[747 rows x 1 columns]"
      ]
     },
     "execution_count": 8,
     "metadata": {},
     "output_type": "execute_result"
    }
   ],
   "source": [
    "txt_df"
   ]
  },
  {
   "cell_type": "code",
   "execution_count": 21,
   "metadata": {},
   "outputs": [
    {
     "data": {
      "text/plain": [
       "' 25 Dec 2023 15:36:49\\n\\n No.  Replies: 3 Sancta Maria\\ngratia plena\\nDominus tecum\\nBenedicta tu in mulieribus\\net benedicus fructus ventris tui Jesus\\nSancta Maria\\nmater Dei\\nora pro nobis pecatoribus\\nNunc et in hora mortis nostrae\\nAmen'"
      ]
     },
     "execution_count": 21,
     "metadata": {},
     "output_type": "execute_result"
    }
   ],
   "source": [
    "txt_df['Raw_Text'][145]"
   ]
  },
  {
   "cell_type": "code",
   "execution_count": 9,
   "metadata": {},
   "outputs": [],
   "source": [
    "import re\n",
    "def anonidget (elem): \n",
    "    return elem.split()[0] if elem else '' \n",
    " \n",
    "def date_get(s): \n",
    "    match = re.search(r'\\s+(.*?)\\s*No.', s)\n",
    "    result = match.group(1) if match else ''\n",
    "    return result \n",
    "\n",
    "def threadnoget (s): \n",
    "    match = re.search(r'No\\.\\s*(\\S+)', s)\n",
    "    result = match.group(1) if match else ''\n",
    "    return result "
   ]
  },
  {
   "cell_type": "code",
   "execution_count": 31,
   "metadata": {},
   "outputs": [],
   "source": [
    "def date_get(s): \n",
    "    pattern = r'\\b\\w{3} \\d{1,2} \\w{3} \\d{4} \\d{2}:\\d{2}:\\d{2}\\b'\n",
    "    match = re.search(pattern, s)\n",
    "    result = match.group(0) if match else ''\n",
    "    return result "
   ]
  },
  {
   "cell_type": "code",
   "execution_count": 32,
   "metadata": {},
   "outputs": [],
   "source": [
    "txt_df['Date'] = txt_df['Raw_Text'].apply(date_get)"
   ]
  },
  {
   "cell_type": "code",
   "execution_count": 34,
   "metadata": {},
   "outputs": [],
   "source": [
    "txt_df['Test'] = pd.to_datetime(txt_df['Date'], format='%a %d %b %Y %H:%M:%S')"
   ]
  },
  {
   "cell_type": "code",
   "execution_count": 10,
   "metadata": {},
   "outputs": [],
   "source": [
    "txt_df['Anon_Id'] = txt_df['Raw_Text'].apply(anonidget)\n",
    "txt_df['Date'] = txt_df['Raw_Text'].apply(date_get)\n",
    "txt_df['Thread_No'] = txt_df['Raw_Text'].apply(threadnoget)"
   ]
  },
  {
   "cell_type": "code",
   "execution_count": 11,
   "metadata": {},
   "outputs": [],
   "source": [
    "def Raw_Strip (s): \n",
    "    return s['Raw_Text'].replace(s['Anon_Id'], '').replace(s['Date'], '').replace(s['Thread_No'], '').strip()\n",
    "\n",
    "txt_df['Raw_Text'] = txt_df.apply(Raw_Strip, axis = 1)"
   ]
  },
  {
   "cell_type": "code",
   "execution_count": 12,
   "metadata": {},
   "outputs": [],
   "source": [
    "def process_string(s):\n",
    "    if \"ViewReport\\n>>\" in s:\n",
    "        # Extract everything after \"ViewReport\\n>>\" and before the next \"\\n\"\n",
    "        match = re.search(r'ViewReport\\n>>\\s*(.*?)\\n', s)\n",
    "        if match:\n",
    "            extracted = match.group(1)\n",
    "        else:\n",
    "            extracted = \"\"\n",
    "    #elif \"ViewReport\\n\" in s:\n",
    "        #extracted = \"Original Post\"\n",
    "    else:\n",
    "        extracted = \"\"\n",
    "    \n",
    "    # Remove the extracted part from the original string\n",
    "    s = s.replace(match.group(0) if match else \"ViewReport\\n\", \"\").strip() if extracted else s\n",
    "    return extracted, s\n",
    "\n",
    "# Apply the function to the DataFrame\n",
    "txt_df[['OP_ID', 'Raw_Text']] = txt_df['Raw_Text'].apply(process_string).apply(pd.Series)"
   ]
  },
  {
   "cell_type": "code",
   "execution_count": 13,
   "metadata": {},
   "outputs": [],
   "source": [
    "txt_df ['Raw_Text'] = txt_df ['Raw_Text'].str.replace('ViewReport\\n', '', regex=False).str[3:]"
   ]
  },
  {
   "cell_type": "code",
   "execution_count": 14,
   "metadata": {},
   "outputs": [],
   "source": [
    "df = txt_df"
   ]
  },
  {
   "cell_type": "code",
   "execution_count": 20,
   "metadata": {},
   "outputs": [
    {
     "data": {
      "text/plain": [
       "'4chan Time: 12/25/23(Mon)18:36'"
      ]
     },
     "execution_count": 20,
     "metadata": {},
     "output_type": "execute_result"
    }
   ],
   "source": [
    "df['Date'][145]"
   ]
  },
  {
   "cell_type": "code",
   "execution_count": 16,
   "metadata": {},
   "outputs": [
    {
     "ename": "ValueError",
     "evalue": "time data \"4chan Time: 12/25/23(Mon)18:36\" doesn't match format \"%a %d %b %Y %H:%M:%S\", at position 145. You might want to try:\n    - passing `format` if your strings have a consistent format;\n    - passing `format='ISO8601'` if your strings are all ISO8601 but not necessarily in exactly the same format;\n    - passing `format='mixed'`, and the format will be inferred for each element individually. You might want to use `dayfirst` alongside this.",
     "output_type": "error",
     "traceback": [
      "\u001b[0;31m---------------------------------------------------------------------------\u001b[0m",
      "\u001b[0;31mValueError\u001b[0m                                Traceback (most recent call last)",
      "Cell \u001b[0;32mIn [16], line 2\u001b[0m\n\u001b[1;32m      1\u001b[0m df\n\u001b[0;32m----> 2\u001b[0m df [\u001b[39m'\u001b[39m\u001b[39mDate1\u001b[39m\u001b[39m'\u001b[39m] \u001b[39m=\u001b[39m pd\u001b[39m.\u001b[39;49mto_datetime (df[\u001b[39m'\u001b[39;49m\u001b[39mDate\u001b[39;49m\u001b[39m'\u001b[39;49m], \u001b[39mformat\u001b[39;49m\u001b[39m=\u001b[39;49m\u001b[39m'\u001b[39;49m\u001b[39m%a\u001b[39;49;00m\u001b[39m \u001b[39;49m\u001b[39m%d\u001b[39;49;00m\u001b[39m \u001b[39;49m\u001b[39m%\u001b[39;49m\u001b[39mb \u001b[39;49m\u001b[39m%\u001b[39;49m\u001b[39mY \u001b[39;49m\u001b[39m%\u001b[39;49m\u001b[39mH:\u001b[39;49m\u001b[39m%\u001b[39;49m\u001b[39mM:\u001b[39;49m\u001b[39m%\u001b[39;49m\u001b[39mS\u001b[39;49m\u001b[39m'\u001b[39;49m) \n",
      "File \u001b[0;32m~/opt/miniconda3/lib/python3.9/site-packages/pandas/core/tools/datetimes.py:1112\u001b[0m, in \u001b[0;36mto_datetime\u001b[0;34m(arg, errors, dayfirst, yearfirst, utc, format, exact, unit, infer_datetime_format, origin, cache)\u001b[0m\n\u001b[1;32m   1110\u001b[0m         result \u001b[39m=\u001b[39m arg\u001b[39m.\u001b[39mmap(cache_array)\n\u001b[1;32m   1111\u001b[0m     \u001b[39melse\u001b[39;00m:\n\u001b[0;32m-> 1112\u001b[0m         values \u001b[39m=\u001b[39m convert_listlike(arg\u001b[39m.\u001b[39;49m_values, \u001b[39mformat\u001b[39;49m)\n\u001b[1;32m   1113\u001b[0m         result \u001b[39m=\u001b[39m arg\u001b[39m.\u001b[39m_constructor(values, index\u001b[39m=\u001b[39marg\u001b[39m.\u001b[39mindex, name\u001b[39m=\u001b[39marg\u001b[39m.\u001b[39mname)\n\u001b[1;32m   1114\u001b[0m \u001b[39melif\u001b[39;00m \u001b[39misinstance\u001b[39m(arg, (ABCDataFrame, abc\u001b[39m.\u001b[39mMutableMapping)):\n",
      "File \u001b[0;32m~/opt/miniconda3/lib/python3.9/site-packages/pandas/core/tools/datetimes.py:488\u001b[0m, in \u001b[0;36m_convert_listlike_datetimes\u001b[0;34m(arg, format, name, utc, unit, errors, dayfirst, yearfirst, exact)\u001b[0m\n\u001b[1;32m    486\u001b[0m \u001b[39m# `format` could be inferred, or user didn't ask for mixed-format parsing.\u001b[39;00m\n\u001b[1;32m    487\u001b[0m \u001b[39mif\u001b[39;00m \u001b[39mformat\u001b[39m \u001b[39mis\u001b[39;00m \u001b[39mnot\u001b[39;00m \u001b[39mNone\u001b[39;00m \u001b[39mand\u001b[39;00m \u001b[39mformat\u001b[39m \u001b[39m!=\u001b[39m \u001b[39m\"\u001b[39m\u001b[39mmixed\u001b[39m\u001b[39m\"\u001b[39m:\n\u001b[0;32m--> 488\u001b[0m     \u001b[39mreturn\u001b[39;00m _array_strptime_with_fallback(arg, name, utc, \u001b[39mformat\u001b[39;49m, exact, errors)\n\u001b[1;32m    490\u001b[0m result, tz_parsed \u001b[39m=\u001b[39m objects_to_datetime64ns(\n\u001b[1;32m    491\u001b[0m     arg,\n\u001b[1;32m    492\u001b[0m     dayfirst\u001b[39m=\u001b[39mdayfirst,\n\u001b[0;32m   (...)\u001b[0m\n\u001b[1;32m    496\u001b[0m     allow_object\u001b[39m=\u001b[39m\u001b[39mTrue\u001b[39;00m,\n\u001b[1;32m    497\u001b[0m )\n\u001b[1;32m    499\u001b[0m \u001b[39mif\u001b[39;00m tz_parsed \u001b[39mis\u001b[39;00m \u001b[39mnot\u001b[39;00m \u001b[39mNone\u001b[39;00m:\n\u001b[1;32m    500\u001b[0m     \u001b[39m# We can take a shortcut since the datetime64 numpy array\u001b[39;00m\n\u001b[1;32m    501\u001b[0m     \u001b[39m# is in UTC\u001b[39;00m\n",
      "File \u001b[0;32m~/opt/miniconda3/lib/python3.9/site-packages/pandas/core/tools/datetimes.py:519\u001b[0m, in \u001b[0;36m_array_strptime_with_fallback\u001b[0;34m(arg, name, utc, fmt, exact, errors)\u001b[0m\n\u001b[1;32m    508\u001b[0m \u001b[39mdef\u001b[39;00m \u001b[39m_array_strptime_with_fallback\u001b[39m(\n\u001b[1;32m    509\u001b[0m     arg,\n\u001b[1;32m    510\u001b[0m     name,\n\u001b[0;32m   (...)\u001b[0m\n\u001b[1;32m    514\u001b[0m     errors: \u001b[39mstr\u001b[39m,\n\u001b[1;32m    515\u001b[0m ) \u001b[39m-\u001b[39m\u001b[39m>\u001b[39m Index:\n\u001b[1;32m    516\u001b[0m     \u001b[39m\"\"\"\u001b[39;00m\n\u001b[1;32m    517\u001b[0m \u001b[39m    Call array_strptime, with fallback behavior depending on 'errors'.\u001b[39;00m\n\u001b[1;32m    518\u001b[0m \u001b[39m    \"\"\"\u001b[39;00m\n\u001b[0;32m--> 519\u001b[0m     result, timezones \u001b[39m=\u001b[39m array_strptime(arg, fmt, exact\u001b[39m=\u001b[39;49mexact, errors\u001b[39m=\u001b[39;49merrors, utc\u001b[39m=\u001b[39;49mutc)\n\u001b[1;32m    520\u001b[0m     \u001b[39mif\u001b[39;00m \u001b[39many\u001b[39m(tz \u001b[39mis\u001b[39;00m \u001b[39mnot\u001b[39;00m \u001b[39mNone\u001b[39;00m \u001b[39mfor\u001b[39;00m tz \u001b[39min\u001b[39;00m timezones):\n\u001b[1;32m    521\u001b[0m         \u001b[39mreturn\u001b[39;00m _return_parsed_timezone_results(result, timezones, utc, name)\n",
      "File \u001b[0;32mstrptime.pyx:534\u001b[0m, in \u001b[0;36mpandas._libs.tslibs.strptime.array_strptime\u001b[0;34m()\u001b[0m\n",
      "File \u001b[0;32mstrptime.pyx:355\u001b[0m, in \u001b[0;36mpandas._libs.tslibs.strptime.array_strptime\u001b[0;34m()\u001b[0m\n",
      "\u001b[0;31mValueError\u001b[0m: time data \"4chan Time: 12/25/23(Mon)18:36\" doesn't match format \"%a %d %b %Y %H:%M:%S\", at position 145. You might want to try:\n    - passing `format` if your strings have a consistent format;\n    - passing `format='ISO8601'` if your strings are all ISO8601 but not necessarily in exactly the same format;\n    - passing `format='mixed'`, and the format will be inferred for each element individually. You might want to use `dayfirst` alongside this."
     ]
    }
   ],
   "source": [
    "df\n",
    "df ['Date1'] = pd.to_datetime (df['Date'], format='%a %d %b %Y %H:%M:%S') "
   ]
  },
  {
   "cell_type": "code",
   "execution_count": 39,
   "metadata": {},
   "outputs": [],
   "source": [
    "def process_quotes(s):\n",
    "    if \"Quoted By\" in s: \n",
    "        return re.findall(r'>>(\\d+)\\n', s)\n",
    "    else:\n",
    "        modified_string = s  # No modification needed if \"Quoted By\" is not present\n",
    "        return \"No Quote\"\n",
    "\n",
    "df['Quoted_By'] = df['Raw_Text'].apply(process_quotes)"
   ]
  },
  {
   "cell_type": "code",
   "execution_count": 42,
   "metadata": {},
   "outputs": [],
   "source": [
    "def stripper (s): \n",
    "    if 'Quoted By' in s:\n",
    "        cleaned_string = re.sub(r'Quoted By:|>>\\d+\\n', '', s)\n",
    "        return cleaned_string.strip()\n",
    "    else: \n",
    "        return s\n",
    "\n",
    "df ['Raw_Text'] = df['Raw_Text'].apply(stripper)"
   ]
  },
  {
   "cell_type": "code",
   "execution_count": 43,
   "metadata": {},
   "outputs": [
    {
     "data": {
      "text/html": [
       "<div>\n",
       "<style scoped>\n",
       "    .dataframe tbody tr th:only-of-type {\n",
       "        vertical-align: middle;\n",
       "    }\n",
       "\n",
       "    .dataframe tbody tr th {\n",
       "        vertical-align: top;\n",
       "    }\n",
       "\n",
       "    .dataframe thead th {\n",
       "        text-align: right;\n",
       "    }\n",
       "</style>\n",
       "<table border=\"1\" class=\"dataframe\">\n",
       "  <thead>\n",
       "    <tr style=\"text-align: right;\">\n",
       "      <th></th>\n",
       "      <th>Raw_Text</th>\n",
       "      <th>Anon_Id</th>\n",
       "      <th>Date</th>\n",
       "      <th>Thread_No</th>\n",
       "      <th>OP_ID</th>\n",
       "      <th>Quoted_By</th>\n",
       "    </tr>\n",
       "  </thead>\n",
       "  <tbody>\n",
       "    <tr>\n",
       "      <th>0</th>\n",
       "      <td>back in the day when you could actually roug...</td>\n",
       "      <td>1EWguvJu</td>\n",
       "      <td>Sat 30 Sep 2023 20:11:14</td>\n",
       "      <td>442941683</td>\n",
       "      <td>442941300</td>\n",
       "      <td>No Quote</td>\n",
       "    </tr>\n",
       "    <tr>\n",
       "      <th>1</th>\n",
       "      <td>AVE MARIA, gratia plena,\\nDominus tecum.\\nBe...</td>\n",
       "      <td>2vxw5vE2</td>\n",
       "      <td>Sat 30 Sep 2023 15:18:10</td>\n",
       "      <td>442918956</td>\n",
       "      <td>442918517</td>\n",
       "      <td>No Quote</td>\n",
       "    </tr>\n",
       "    <tr>\n",
       "      <th>2</th>\n",
       "      <td>the traditional is better:\\nAVE MARIA, gratia ...</td>\n",
       "      <td>0jbK/UkI</td>\n",
       "      <td>Sat 30 Sep 2023 15:13:03</td>\n",
       "      <td>442918517</td>\n",
       "      <td></td>\n",
       "      <td>[442918956, 442917658]</td>\n",
       "    </tr>\n",
       "    <tr>\n",
       "      <th>3</th>\n",
       "      <td>We need more of everything, but to get that ...</td>\n",
       "      <td>DO5W/qJC</td>\n",
       "      <td>Sat 30 Sep 2023 14:42:03</td>\n",
       "      <td>442915873</td>\n",
       "      <td>442914706</td>\n",
       "      <td>No Quote</td>\n",
       "    </tr>\n",
       "    <tr>\n",
       "      <th>4</th>\n",
       "      <td>&gt;prevent whites from attaining higher educta...</td>\n",
       "      <td>10oe7MzE</td>\n",
       "      <td>Sat 30 Sep 2023 12:34:21</td>\n",
       "      <td>442904522</td>\n",
       "      <td>442892406</td>\n",
       "      <td>No Quote</td>\n",
       "    </tr>\n",
       "    <tr>\n",
       "      <th>...</th>\n",
       "      <td>...</td>\n",
       "      <td>...</td>\n",
       "      <td>...</td>\n",
       "      <td>...</td>\n",
       "      <td>...</td>\n",
       "      <td>...</td>\n",
       "    </tr>\n",
       "    <tr>\n",
       "      <th>381</th>\n",
       "      <td>If we focused more on DEI, SDGs, homosexuali...</td>\n",
       "      <td>/Fjtpid7</td>\n",
       "      <td>Fri 01 Sep 2023 22:32:56</td>\n",
       "      <td>440008576</td>\n",
       "      <td></td>\n",
       "      <td>No Quote</td>\n",
       "    </tr>\n",
       "    <tr>\n",
       "      <th>382</th>\n",
       "      <td>I'm on my company's DEI committee. So I'd be...</td>\n",
       "      <td>eAz0sYSU</td>\n",
       "      <td>Fri 01 Sep 2023 20:52:50</td>\n",
       "      <td>440003093</td>\n",
       "      <td>439989139</td>\n",
       "      <td>No Quote</td>\n",
       "    </tr>\n",
       "    <tr>\n",
       "      <th>383</th>\n",
       "      <td>Yeah, and like I told you last time; they're...</td>\n",
       "      <td>1VqJjDGs</td>\n",
       "      <td>Fri 01 Sep 2023 16:24:30</td>\n",
       "      <td>439983664</td>\n",
       "      <td>439982293</td>\n",
       "      <td>No Quote</td>\n",
       "    </tr>\n",
       "    <tr>\n",
       "      <th>384</th>\n",
       "      <td>&gt;Notice whereever the Catholics has control,...</td>\n",
       "      <td>IxORDGq8</td>\n",
       "      <td>Fri 01 Sep 2023 11:22:33</td>\n",
       "      <td>439958652</td>\n",
       "      <td>439956232</td>\n",
       "      <td>No Quote</td>\n",
       "    </tr>\n",
       "    <tr>\n",
       "      <th>385</th>\n",
       "      <td>Do not know anything about this guy or the t...</td>\n",
       "      <td>QAmvE10G</td>\n",
       "      <td>Fri 01 Sep 2023 10:46:28</td>\n",
       "      <td>439955810</td>\n",
       "      <td>439950873</td>\n",
       "      <td>No Quote</td>\n",
       "    </tr>\n",
       "  </tbody>\n",
       "</table>\n",
       "<p>386 rows × 6 columns</p>\n",
       "</div>"
      ],
      "text/plain": [
       "                                              Raw_Text   Anon_Id  \\\n",
       "0      back in the day when you could actually roug...  1EWguvJu   \n",
       "1      AVE MARIA, gratia plena,\\nDominus tecum.\\nBe...  2vxw5vE2   \n",
       "2    the traditional is better:\\nAVE MARIA, gratia ...  0jbK/UkI   \n",
       "3      We need more of everything, but to get that ...  DO5W/qJC   \n",
       "4      >prevent whites from attaining higher educta...  10oe7MzE   \n",
       "..                                                 ...       ...   \n",
       "381    If we focused more on DEI, SDGs, homosexuali...  /Fjtpid7   \n",
       "382    I'm on my company's DEI committee. So I'd be...  eAz0sYSU   \n",
       "383    Yeah, and like I told you last time; they're...  1VqJjDGs   \n",
       "384    >Notice whereever the Catholics has control,...  IxORDGq8   \n",
       "385    Do not know anything about this guy or the t...  QAmvE10G   \n",
       "\n",
       "                         Date  Thread_No      OP_ID               Quoted_By  \n",
       "0    Sat 30 Sep 2023 20:11:14  442941683  442941300                No Quote  \n",
       "1    Sat 30 Sep 2023 15:18:10  442918956  442918517                No Quote  \n",
       "2    Sat 30 Sep 2023 15:13:03  442918517             [442918956, 442917658]  \n",
       "3    Sat 30 Sep 2023 14:42:03  442915873  442914706                No Quote  \n",
       "4    Sat 30 Sep 2023 12:34:21  442904522  442892406                No Quote  \n",
       "..                        ...        ...        ...                     ...  \n",
       "381  Fri 01 Sep 2023 22:32:56  440008576                           No Quote  \n",
       "382  Fri 01 Sep 2023 20:52:50  440003093  439989139                No Quote  \n",
       "383  Fri 01 Sep 2023 16:24:30  439983664  439982293                No Quote  \n",
       "384  Fri 01 Sep 2023 11:22:33  439958652  439956232                No Quote  \n",
       "385  Fri 01 Sep 2023 10:46:28  439955810  439950873                No Quote  \n",
       "\n",
       "[386 rows x 6 columns]"
      ]
     },
     "execution_count": 43,
     "metadata": {},
     "output_type": "execute_result"
    }
   ],
   "source": [
    "df"
   ]
  },
  {
   "cell_type": "markdown",
   "metadata": {},
   "source": [
    "want to preserve misspellings / typos... but that makes its harder for NLP stuff\n",
    "also whats the difference between supervised and unsupervised lmao \n",
    "also want to preserve the punctuation (greentext storytelling) and the newlines "
   ]
  },
  {
   "cell_type": "code",
   "execution_count": 48,
   "metadata": {},
   "outputs": [],
   "source": [
    "bf = pd.DataFrame(df['Anon_Id'], columns = ['Anon_Id'])"
   ]
  },
  {
   "cell_type": "code",
   "execution_count": 50,
   "metadata": {},
   "outputs": [
    {
     "data": {
      "text/html": [
       "<div>\n",
       "<style scoped>\n",
       "    .dataframe tbody tr th:only-of-type {\n",
       "        vertical-align: middle;\n",
       "    }\n",
       "\n",
       "    .dataframe tbody tr th {\n",
       "        vertical-align: top;\n",
       "    }\n",
       "\n",
       "    .dataframe thead th {\n",
       "        text-align: right;\n",
       "    }\n",
       "</style>\n",
       "<table border=\"1\" class=\"dataframe\">\n",
       "  <thead>\n",
       "    <tr style=\"text-align: right;\">\n",
       "      <th></th>\n",
       "      <th>Anon_Id</th>\n",
       "      <th>Raw_Text</th>\n",
       "    </tr>\n",
       "  </thead>\n",
       "  <tbody>\n",
       "    <tr>\n",
       "      <th>0</th>\n",
       "      <td>1EWguvJu</td>\n",
       "      <td>back in the day when you could actually roug...</td>\n",
       "    </tr>\n",
       "    <tr>\n",
       "      <th>1</th>\n",
       "      <td>2vxw5vE2</td>\n",
       "      <td>AVE MARIA, gratia plena,\\nDominus tecum.\\nBe...</td>\n",
       "    </tr>\n",
       "    <tr>\n",
       "      <th>2</th>\n",
       "      <td>0jbK/UkI</td>\n",
       "      <td>the traditional is better:\\nAVE MARIA, gratia ...</td>\n",
       "    </tr>\n",
       "    <tr>\n",
       "      <th>3</th>\n",
       "      <td>DO5W/qJC</td>\n",
       "      <td>We need more of everything, but to get that ...</td>\n",
       "    </tr>\n",
       "    <tr>\n",
       "      <th>4</th>\n",
       "      <td>10oe7MzE</td>\n",
       "      <td>&gt;prevent whites from attaining higher educta...</td>\n",
       "    </tr>\n",
       "    <tr>\n",
       "      <th>...</th>\n",
       "      <td>...</td>\n",
       "      <td>...</td>\n",
       "    </tr>\n",
       "    <tr>\n",
       "      <th>381</th>\n",
       "      <td>/Fjtpid7</td>\n",
       "      <td>If we focused more on DEI, SDGs, homosexuali...</td>\n",
       "    </tr>\n",
       "    <tr>\n",
       "      <th>382</th>\n",
       "      <td>eAz0sYSU</td>\n",
       "      <td>I'm on my company's DEI committee. So I'd be...</td>\n",
       "    </tr>\n",
       "    <tr>\n",
       "      <th>383</th>\n",
       "      <td>1VqJjDGs</td>\n",
       "      <td>Yeah, and like I told you last time; they're...</td>\n",
       "    </tr>\n",
       "    <tr>\n",
       "      <th>384</th>\n",
       "      <td>IxORDGq8</td>\n",
       "      <td>&gt;Notice whereever the Catholics has control,...</td>\n",
       "    </tr>\n",
       "    <tr>\n",
       "      <th>385</th>\n",
       "      <td>QAmvE10G</td>\n",
       "      <td>Do not know anything about this guy or the t...</td>\n",
       "    </tr>\n",
       "  </tbody>\n",
       "</table>\n",
       "<p>386 rows × 2 columns</p>\n",
       "</div>"
      ],
      "text/plain": [
       "      Anon_Id                                           Raw_Text\n",
       "0    1EWguvJu    back in the day when you could actually roug...\n",
       "1    2vxw5vE2    AVE MARIA, gratia plena,\\nDominus tecum.\\nBe...\n",
       "2    0jbK/UkI  the traditional is better:\\nAVE MARIA, gratia ...\n",
       "3    DO5W/qJC    We need more of everything, but to get that ...\n",
       "4    10oe7MzE    >prevent whites from attaining higher educta...\n",
       "..        ...                                                ...\n",
       "381  /Fjtpid7    If we focused more on DEI, SDGs, homosexuali...\n",
       "382  eAz0sYSU    I'm on my company's DEI committee. So I'd be...\n",
       "383  1VqJjDGs    Yeah, and like I told you last time; they're...\n",
       "384  IxORDGq8    >Notice whereever the Catholics has control,...\n",
       "385  QAmvE10G    Do not know anything about this guy or the t...\n",
       "\n",
       "[386 rows x 2 columns]"
      ]
     },
     "execution_count": 50,
     "metadata": {},
     "output_type": "execute_result"
    }
   ],
   "source": [
    "bf ['Raw_Text'] = df['Raw_Text']\n",
    "bf"
   ]
  },
  {
   "cell_type": "code",
   "execution_count": 51,
   "metadata": {},
   "outputs": [
    {
     "data": {
      "text/html": [
       "<div>\n",
       "<style scoped>\n",
       "    .dataframe tbody tr th:only-of-type {\n",
       "        vertical-align: middle;\n",
       "    }\n",
       "\n",
       "    .dataframe tbody tr th {\n",
       "        vertical-align: top;\n",
       "    }\n",
       "\n",
       "    .dataframe thead th {\n",
       "        text-align: right;\n",
       "    }\n",
       "</style>\n",
       "<table border=\"1\" class=\"dataframe\">\n",
       "  <thead>\n",
       "    <tr style=\"text-align: right;\">\n",
       "      <th></th>\n",
       "      <th>Anon_Id</th>\n",
       "      <th>Raw_Text</th>\n",
       "      <th>Raw_Pre_Tokens</th>\n",
       "    </tr>\n",
       "  </thead>\n",
       "  <tbody>\n",
       "    <tr>\n",
       "      <th>0</th>\n",
       "      <td>1EWguvJu</td>\n",
       "      <td>back in the day when you could actually roug...</td>\n",
       "      <td>[back, in, the, day, when, you, could, actuall...</td>\n",
       "    </tr>\n",
       "    <tr>\n",
       "      <th>1</th>\n",
       "      <td>2vxw5vE2</td>\n",
       "      <td>AVE MARIA, gratia plena,\\nDominus tecum.\\nBe...</td>\n",
       "      <td>[AVE, MARIA,, gratia, plena,, Dominus, tecum.,...</td>\n",
       "    </tr>\n",
       "    <tr>\n",
       "      <th>2</th>\n",
       "      <td>0jbK/UkI</td>\n",
       "      <td>the traditional is better:\\nAVE MARIA, gratia ...</td>\n",
       "      <td>[the, traditional, is, better:, AVE, MARIA,, g...</td>\n",
       "    </tr>\n",
       "    <tr>\n",
       "      <th>3</th>\n",
       "      <td>DO5W/qJC</td>\n",
       "      <td>We need more of everything, but to get that ...</td>\n",
       "      <td>[We, need, more, of, everything,, but, to, get...</td>\n",
       "    </tr>\n",
       "    <tr>\n",
       "      <th>4</th>\n",
       "      <td>10oe7MzE</td>\n",
       "      <td>&gt;prevent whites from attaining higher educta...</td>\n",
       "      <td>[&gt;prevent, whites, from, attaining, higher, ed...</td>\n",
       "    </tr>\n",
       "    <tr>\n",
       "      <th>...</th>\n",
       "      <td>...</td>\n",
       "      <td>...</td>\n",
       "      <td>...</td>\n",
       "    </tr>\n",
       "    <tr>\n",
       "      <th>381</th>\n",
       "      <td>/Fjtpid7</td>\n",
       "      <td>If we focused more on DEI, SDGs, homosexuali...</td>\n",
       "      <td>[If, we, focused, more, on, DEI,, SDGs,, homos...</td>\n",
       "    </tr>\n",
       "    <tr>\n",
       "      <th>382</th>\n",
       "      <td>eAz0sYSU</td>\n",
       "      <td>I'm on my company's DEI committee. So I'd be...</td>\n",
       "      <td>[I'm, on, my, company's, DEI, committee., So, ...</td>\n",
       "    </tr>\n",
       "    <tr>\n",
       "      <th>383</th>\n",
       "      <td>1VqJjDGs</td>\n",
       "      <td>Yeah, and like I told you last time; they're...</td>\n",
       "      <td>[Yeah,, and, like, I, told, you, last, time;, ...</td>\n",
       "    </tr>\n",
       "    <tr>\n",
       "      <th>384</th>\n",
       "      <td>IxORDGq8</td>\n",
       "      <td>&gt;Notice whereever the Catholics has control,...</td>\n",
       "      <td>[&gt;Notice, whereever, the, Catholics, has, cont...</td>\n",
       "    </tr>\n",
       "    <tr>\n",
       "      <th>385</th>\n",
       "      <td>QAmvE10G</td>\n",
       "      <td>Do not know anything about this guy or the t...</td>\n",
       "      <td>[Do, not, know, anything, about, this, guy, or...</td>\n",
       "    </tr>\n",
       "  </tbody>\n",
       "</table>\n",
       "<p>386 rows × 3 columns</p>\n",
       "</div>"
      ],
      "text/plain": [
       "      Anon_Id                                           Raw_Text  \\\n",
       "0    1EWguvJu    back in the day when you could actually roug...   \n",
       "1    2vxw5vE2    AVE MARIA, gratia plena,\\nDominus tecum.\\nBe...   \n",
       "2    0jbK/UkI  the traditional is better:\\nAVE MARIA, gratia ...   \n",
       "3    DO5W/qJC    We need more of everything, but to get that ...   \n",
       "4    10oe7MzE    >prevent whites from attaining higher educta...   \n",
       "..        ...                                                ...   \n",
       "381  /Fjtpid7    If we focused more on DEI, SDGs, homosexuali...   \n",
       "382  eAz0sYSU    I'm on my company's DEI committee. So I'd be...   \n",
       "383  1VqJjDGs    Yeah, and like I told you last time; they're...   \n",
       "384  IxORDGq8    >Notice whereever the Catholics has control,...   \n",
       "385  QAmvE10G    Do not know anything about this guy or the t...   \n",
       "\n",
       "                                        Raw_Pre_Tokens  \n",
       "0    [back, in, the, day, when, you, could, actuall...  \n",
       "1    [AVE, MARIA,, gratia, plena,, Dominus, tecum.,...  \n",
       "2    [the, traditional, is, better:, AVE, MARIA,, g...  \n",
       "3    [We, need, more, of, everything,, but, to, get...  \n",
       "4    [>prevent, whites, from, attaining, higher, ed...  \n",
       "..                                                 ...  \n",
       "381  [If, we, focused, more, on, DEI,, SDGs,, homos...  \n",
       "382  [I'm, on, my, company's, DEI, committee., So, ...  \n",
       "383  [Yeah,, and, like, I, told, you, last, time;, ...  \n",
       "384  [>Notice, whereever, the, Catholics, has, cont...  \n",
       "385  [Do, not, know, anything, about, this, guy, or...  \n",
       "\n",
       "[386 rows x 3 columns]"
      ]
     },
     "execution_count": 51,
     "metadata": {},
     "output_type": "execute_result"
    }
   ],
   "source": [
    "def stringsplit (s):\n",
    "    return s.split()\n",
    "\n",
    "bf ['Raw_Pre_Tokens'] = bf['Raw_Text'].apply(stringsplit) # NOT ACTUALLY TOKENIZING i just want like a word count"
   ]
  },
  {
   "cell_type": "code",
   "execution_count": 52,
   "metadata": {},
   "outputs": [
    {
     "data": {
      "text/html": [
       "<div>\n",
       "<style scoped>\n",
       "    .dataframe tbody tr th:only-of-type {\n",
       "        vertical-align: middle;\n",
       "    }\n",
       "\n",
       "    .dataframe tbody tr th {\n",
       "        vertical-align: top;\n",
       "    }\n",
       "\n",
       "    .dataframe thead th {\n",
       "        text-align: right;\n",
       "    }\n",
       "</style>\n",
       "<table border=\"1\" class=\"dataframe\">\n",
       "  <thead>\n",
       "    <tr style=\"text-align: right;\">\n",
       "      <th></th>\n",
       "      <th>Anon_Id</th>\n",
       "      <th>Raw_Text</th>\n",
       "      <th>Raw_Pre_Tokens</th>\n",
       "      <th>Pre_Tokens_Count</th>\n",
       "    </tr>\n",
       "  </thead>\n",
       "  <tbody>\n",
       "    <tr>\n",
       "      <th>0</th>\n",
       "      <td>1EWguvJu</td>\n",
       "      <td>back in the day when you could actually roug...</td>\n",
       "      <td>[back, in, the, day, when, you, could, actuall...</td>\n",
       "      <td>50</td>\n",
       "    </tr>\n",
       "    <tr>\n",
       "      <th>1</th>\n",
       "      <td>2vxw5vE2</td>\n",
       "      <td>AVE MARIA, gratia plena,\\nDominus tecum.\\nBe...</td>\n",
       "      <td>[AVE, MARIA,, gratia, plena,, Dominus, tecum.,...</td>\n",
       "      <td>39</td>\n",
       "    </tr>\n",
       "    <tr>\n",
       "      <th>2</th>\n",
       "      <td>0jbK/UkI</td>\n",
       "      <td>the traditional is better:\\nAVE MARIA, gratia ...</td>\n",
       "      <td>[the, traditional, is, better:, AVE, MARIA,, g...</td>\n",
       "      <td>34</td>\n",
       "    </tr>\n",
       "    <tr>\n",
       "      <th>3</th>\n",
       "      <td>DO5W/qJC</td>\n",
       "      <td>We need more of everything, but to get that ...</td>\n",
       "      <td>[We, need, more, of, everything,, but, to, get...</td>\n",
       "      <td>282</td>\n",
       "    </tr>\n",
       "    <tr>\n",
       "      <th>4</th>\n",
       "      <td>10oe7MzE</td>\n",
       "      <td>&gt;prevent whites from attaining higher educta...</td>\n",
       "      <td>[&gt;prevent, whites, from, attaining, higher, ed...</td>\n",
       "      <td>79</td>\n",
       "    </tr>\n",
       "    <tr>\n",
       "      <th>...</th>\n",
       "      <td>...</td>\n",
       "      <td>...</td>\n",
       "      <td>...</td>\n",
       "      <td>...</td>\n",
       "    </tr>\n",
       "    <tr>\n",
       "      <th>381</th>\n",
       "      <td>/Fjtpid7</td>\n",
       "      <td>If we focused more on DEI, SDGs, homosexuali...</td>\n",
       "      <td>[If, we, focused, more, on, DEI,, SDGs,, homos...</td>\n",
       "      <td>30</td>\n",
       "    </tr>\n",
       "    <tr>\n",
       "      <th>382</th>\n",
       "      <td>eAz0sYSU</td>\n",
       "      <td>I'm on my company's DEI committee. So I'd be...</td>\n",
       "      <td>[I'm, on, my, company's, DEI, committee., So, ...</td>\n",
       "      <td>11</td>\n",
       "    </tr>\n",
       "    <tr>\n",
       "      <th>383</th>\n",
       "      <td>1VqJjDGs</td>\n",
       "      <td>Yeah, and like I told you last time; they're...</td>\n",
       "      <td>[Yeah,, and, like, I, told, you, last, time;, ...</td>\n",
       "      <td>34</td>\n",
       "    </tr>\n",
       "    <tr>\n",
       "      <th>384</th>\n",
       "      <td>IxORDGq8</td>\n",
       "      <td>&gt;Notice whereever the Catholics has control,...</td>\n",
       "      <td>[&gt;Notice, whereever, the, Catholics, has, cont...</td>\n",
       "      <td>26</td>\n",
       "    </tr>\n",
       "    <tr>\n",
       "      <th>385</th>\n",
       "      <td>QAmvE10G</td>\n",
       "      <td>Do not know anything about this guy or the t...</td>\n",
       "      <td>[Do, not, know, anything, about, this, guy, or...</td>\n",
       "      <td>59</td>\n",
       "    </tr>\n",
       "  </tbody>\n",
       "</table>\n",
       "<p>386 rows × 4 columns</p>\n",
       "</div>"
      ],
      "text/plain": [
       "      Anon_Id                                           Raw_Text  \\\n",
       "0    1EWguvJu    back in the day when you could actually roug...   \n",
       "1    2vxw5vE2    AVE MARIA, gratia plena,\\nDominus tecum.\\nBe...   \n",
       "2    0jbK/UkI  the traditional is better:\\nAVE MARIA, gratia ...   \n",
       "3    DO5W/qJC    We need more of everything, but to get that ...   \n",
       "4    10oe7MzE    >prevent whites from attaining higher educta...   \n",
       "..        ...                                                ...   \n",
       "381  /Fjtpid7    If we focused more on DEI, SDGs, homosexuali...   \n",
       "382  eAz0sYSU    I'm on my company's DEI committee. So I'd be...   \n",
       "383  1VqJjDGs    Yeah, and like I told you last time; they're...   \n",
       "384  IxORDGq8    >Notice whereever the Catholics has control,...   \n",
       "385  QAmvE10G    Do not know anything about this guy or the t...   \n",
       "\n",
       "                                        Raw_Pre_Tokens  Pre_Tokens_Count  \n",
       "0    [back, in, the, day, when, you, could, actuall...                50  \n",
       "1    [AVE, MARIA,, gratia, plena,, Dominus, tecum.,...                39  \n",
       "2    [the, traditional, is, better:, AVE, MARIA,, g...                34  \n",
       "3    [We, need, more, of, everything,, but, to, get...               282  \n",
       "4    [>prevent, whites, from, attaining, higher, ed...                79  \n",
       "..                                                 ...               ...  \n",
       "381  [If, we, focused, more, on, DEI,, SDGs,, homos...                30  \n",
       "382  [I'm, on, my, company's, DEI, committee., So, ...                11  \n",
       "383  [Yeah,, and, like, I, told, you, last, time;, ...                34  \n",
       "384  [>Notice, whereever, the, Catholics, has, cont...                26  \n",
       "385  [Do, not, know, anything, about, this, guy, or...                59  \n",
       "\n",
       "[386 rows x 4 columns]"
      ]
     },
     "execution_count": 52,
     "metadata": {},
     "output_type": "execute_result"
    }
   ],
   "source": [
    "bf['Pre_Tokens_Count'] = bf['Raw_Pre_Tokens'].apply(len)\n",
    "bf"
   ]
  },
  {
   "cell_type": "code",
   "execution_count": 53,
   "metadata": {},
   "outputs": [
    {
     "name": "stderr",
     "output_type": "stream",
     "text": [
      "/Users/emilyzou/opt/miniconda3/lib/python3.9/site-packages/seaborn/_oldcore.py:1498: FutureWarning: is_categorical_dtype is deprecated and will be removed in a future version. Use isinstance(dtype, CategoricalDtype) instead\n",
      "  if pd.api.types.is_categorical_dtype(vector):\n",
      "/Users/emilyzou/opt/miniconda3/lib/python3.9/site-packages/seaborn/_oldcore.py:1498: FutureWarning: is_categorical_dtype is deprecated and will be removed in a future version. Use isinstance(dtype, CategoricalDtype) instead\n",
      "  if pd.api.types.is_categorical_dtype(vector):\n"
     ]
    },
    {
     "data": {
      "image/png": "[encoded data removed]",
      "text/plain": [
       "<Figure size 1000x600 with 1 Axes>"
      ]
     },
     "metadata": {},
     "output_type": "display_data"
    }
   ],
   "source": [
    "import matplotlib.pyplot as plt\n",
    "import seaborn as sns\n",
    "import numpy as np\n",
    "\n",
    "data = [x for x in bf['Pre_Tokens_Count']]\n",
    "\n",
    "# Create a scatterplot\n",
    "plt.figure(figsize=(10, 6))\n",
    "sns.set(style=\"whitegrid\")\n",
    "sns.scatterplot(x=np.arange(len(data)), y=data, s=100, color='blue', alpha=0.7)\n",
    "\n",
    "# Customize the plot\n",
    "plt.title('Scatterplot of Numbers', fontsize=16)\n",
    "plt.xlabel('Index', fontsize=14)\n",
    "plt.ylabel('Value', fontsize=14)\n",
    "plt.axhline(y=np.mean(data), color='r', linestyle='--', label='Mean Value')\n",
    "plt.legend()\n",
    "plt.grid(True)\n",
    "\n",
    "# Show the plot\n",
    "plt.tight_layout()\n",
    "plt.show()"
   ]
  }
 ],
 "metadata": {
  "kernelspec": {
   "display_name": "Python 3.9.12 ('base')",
   "language": "python",
   "name": "python3"
  },
  "language_info": {
   "codemirror_mode": {
    "name": "ipython",
    "version": 3
   },
   "file_extension": ".py",
   "mimetype": "text/x-python",
   "name": "python",
   "nbconvert_exporter": "python",
   "pygments_lexer": "ipython3",
   "version": "3.9.12"
  },
  "orig_nbformat": 4,
  "vscode": {
   "interpreter": {
    "hash": "dda3671ff3204f7c08d6fd700d73245b2febe83cbc27407a5dbd57f565cde480"
   }
  }
 },
 "nbformat": 4,
 "nbformat_minor": 2
}
