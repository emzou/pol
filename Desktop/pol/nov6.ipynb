{
 "cells": [
  {
   "cell_type": "code",
   "execution_count": 50,
   "metadata": {},
   "outputs": [],
   "source": [
    "import pandas as pd\n",
    "from pathlib import Path \n",
    "import re\n",
    "import string"
   ]
  },
  {
   "cell_type": "markdown",
   "metadata": {},
   "source": [
    "> reading in the data, verifying that everything is correct"
   ]
  },
  {
   "cell_type": "code",
   "execution_count": 27,
   "metadata": {},
   "outputs": [],
   "source": [
    "txt = Path (\"/Users/emilyzou/Desktop/pol/data/merged.txt\").read_text()"
   ]
  },
  {
   "cell_type": "code",
   "execution_count": 28,
   "metadata": {},
   "outputs": [],
   "source": [
    "test = txt.split ('Anonymous ID')"
   ]
  },
  {
   "cell_type": "code",
   "execution_count": 29,
   "metadata": {},
   "outputs": [],
   "source": [
    "#get rid of the image metadata\n",
    "pattern = r'\\nView SameOCRGoogleiqdbSauceNAOTrace\\s.*?\\(\\.\\.\\.\\)\\.jpg,\\s\\d+KiB,\\s\\d{2,4}x\\d{2,4}'\n",
    "def remove_pattern_from_list(word_string):\n",
    "    return re.sub(pattern, '', word_string) \n",
    "\n",
    "clean1 = [remove_pattern_from_list(m) for m in test]"
   ]
  },
  {
   "cell_type": "code",
   "execution_count": 38,
   "metadata": {},
   "outputs": [],
   "source": [
    "def splitstring(input_string):\n",
    "    pattern = r\"(:.*?)(ViewReport\\n)(.*)\"\n",
    "    match = re.match(pattern, input_string, re.DOTALL)\n",
    "    \n",
    "    if match:\n",
    "        identifier = match.group(1).strip()  \n",
    "        text = match.group(3).strip()  \n",
    "        return identifier, text\n",
    "    else:\n",
    "        return \"No match found\""
   ]
  },
  {
   "cell_type": "code",
   "execution_count": 40,
   "metadata": {},
   "outputs": [],
   "source": [
    "templist = [splitstring(m) for m in clean1]"
   ]
  },
  {
   "cell_type": "code",
   "execution_count": 52,
   "metadata": {},
   "outputs": [],
   "source": [
    "templist = templist[1:]"
   ]
  },
  {
   "cell_type": "markdown",
   "metadata": {},
   "source": [
    ">> splitting the data into posts, replies, quotes and tagging it with date and ID "
   ]
  },
  {
   "cell_type": "markdown",
   "metadata": {},
   "source": [
    ">> step one - making a spreadsheet with everything"
   ]
  },
  {
   "cell_type": "code",
   "execution_count": null,
   "metadata": {},
   "outputs": [],
   "source": [
    "paramore = [m[0] for m in templist] # to take a peek at what the identifier structure is "
   ]
  },
  {
   "cell_type": "code",
   "execution_count": 93,
   "metadata": {},
   "outputs": [],
   "source": [
    "def anonidget (elem): \n",
    "    return elem.split()[0] if elem else '' \n",
    " \n",
    "def date_get(s): \n",
    "    pattern = r'\\b\\w{3} \\d{1,2} \\w{3} \\d{4} \\d{2}:\\d{2}:\\d{2}\\b'\n",
    "    match = re.search(pattern, s)\n",
    "    result = match.group(0) if match else ''\n",
    "    return result \n",
    "\n",
    "def threadnoget (s): \n",
    "    match = re.search(r'No\\.\\s*(\\S+)', s)\n",
    "    result = match.group(1) if match else ''\n",
    "    return result \n",
    "\n",
    "def replyget(s):\n",
    "    match = re.search(r'Replies: \\d+', s)\n",
    "    result = match.group(1) if match else ''\n",
    "    return result"
   ]
  },
  {
   "cell_type": "code",
   "execution_count": 111,
   "metadata": {},
   "outputs": [],
   "source": [
    "# to be improved on... im not sure what my priority should be right now \n",
    "\n",
    "df = pd.DataFrame (templist, columns = ['Identifier', 'Text']) \n",
    "df['anonid'] = df['Identifier'].apply(anonidget)\n",
    "df['date'] = df['Identifier'].apply(date_get)\n",
    "df['number'] = df['Identifier'].apply(threadnoget)"
   ]
  },
  {
   "cell_type": "code",
   "execution_count": 113,
   "metadata": {},
   "outputs": [],
   "source": [
    "df.to_csv(\"11_6_fulldataset.csv\")"
   ]
  },
  {
   "cell_type": "code",
   "execution_count": 114,
   "metadata": {},
   "outputs": [],
   "source": [
    "# its too big lol\n",
    "split_index = len(df) // 2\n",
    "df_part1 = df.iloc[:split_index]\n",
    "df_part2 = df.iloc[split_index:]\n",
    "df_part1.to_csv('11_6_fulldatapart1.csv', index=False)\n",
    "df_part2.to_csv('11_6_fulldatapart2.csv', index=False)"
   ]
  },
  {
   "cell_type": "code",
   "execution_count": null,
   "metadata": {},
   "outputs": [],
   "source": [
    "## lets get all the items that were original posts (they have \"Replies:\" at the end of their identifiers)\n",
    "def filter_replies(list_of_lists):\n",
    "    pattern = r\"Replies: \\d+( View)?$\"\n",
    "    filtered_list = [sublist for sublist in list_of_lists if re.search(pattern, sublist[0])] \n",
    "    return filtered_list\n",
    "\n",
    "postlist = filter_replies(templist)\n",
    "\n",
    "postdf = pd.DataFrame(postlist, columns = ['Identifier', 'Text'])\n",
    "postdf['anonid'] = postdf['Identifier'].apply(anonidget)\n",
    "postdf['date'] = postdf['Identifier'].apply(date_get)\n",
    "postdf['number'] = postdf['Identifier'].apply(threadnoget)"
   ]
  },
  {
   "cell_type": "code",
   "execution_count": 97,
   "metadata": {},
   "outputs": [],
   "source": [
    "## categorizing quoted by and removing it from the text\n",
    "def process_quotes(s):\n",
    "    if \"Quoted By\" in s: \n",
    "        return re.findall(r'>>(\\d+)\\n', s)\n",
    "    else:\n",
    "        modified_string = s  # no modification needed if \"Quoted By\" is not present\n",
    "        return \"No Quote\"\n",
    "\n",
    "postdf['Quoted_By'] = postdf['Text'].apply(process_quotes)\n",
    "\n",
    "def stripper (s): \n",
    "    if 'Quoted By' in s:\n",
    "        cleaned_string = re.sub(r'Quoted By:|>>\\d+\\n', '', s)\n",
    "        return cleaned_string.strip()\n",
    "    else: \n",
    "        return s\n",
    "\n",
    "postdf ['Text'] = postdf['Text'].apply(stripper)"
   ]
  },
  {
   "cell_type": "code",
   "execution_count": 98,
   "metadata": {},
   "outputs": [],
   "source": [
    "## just checking that we did this right. these should all be empty \n",
    "postdf['replyto'] = postdf['Text'].apply(lambda text: re.findall(r'>>(\\d+)', text))"
   ]
  },
  {
   "cell_type": "code",
   "execution_count": 101,
   "metadata": {},
   "outputs": [],
   "source": [
    "postdf = postdf.drop_duplicates(subset=['Identifier'])"
   ]
  },
  {
   "cell_type": "code",
   "execution_count": 109,
   "metadata": {},
   "outputs": [],
   "source": [
    "postdf['date'] = pd.to_datetime(postdf['date'], format='%a %d %b %Y %H:%M:%S')\n",
    "\n",
    "# time series visualization, converting dates into week buckets\n",
    "start_date = '2022-09-01'\n",
    "end_date = \"2024-10-31\"\n",
    "\n",
    "postdf = postdf[(postdf['date'] >= start_date) & (postdf['date'] <= end_date)]\n",
    "postdf ['month'] = postdf['date'].dt.to_period('M').apply(lambda r: r.start_time)\n",
    "\n",
    "month_counts = postdf['month'].value_counts().reset_index()\n",
    "month_counts.columns = ['month', 'count']\n"
   ]
  },
  {
   "cell_type": "code",
   "execution_count": 110,
   "metadata": {},
   "outputs": [
    {
     "data": {
      "image/png": "[encoded data removed]",
      "text/plain": [
       "<Figure size 1200x600 with 1 Axes>"
      ]
     },
     "metadata": {},
     "output_type": "display_data"
    }
   ],
   "source": [
    "# why does it look like this\n",
    "\n",
    "import matplotlib.pyplot as plt \n",
    "import matplotlib.dates as mdates\n",
    "date = month_counts['month'] \n",
    "value = month_counts ['count']\n",
    "\n",
    "plt.figure(figsize=(12, 6))\n",
    "\n",
    "plt.plot(date, value, marker='o', linestyle='-', color='b')\n",
    "plt.gca().xaxis.set_major_locator(mdates.MonthLocator())  \n",
    "plt.gca().xaxis.set_major_formatter(mdates.DateFormatter('%Y-%m'))  \n",
    "\n",
    "plt.title('Monthly Counts of Original Posts that Used \"DEI\" in /pol/', fontsize=16)\n",
    "plt.xlabel('Month', fontsize=14)\n",
    "plt.ylabel('Count', fontsize=14)\n",
    "\n",
    "\n",
    "plt.xticks(rotation=45)\n",
    "\n",
    "\n",
    "plt.grid()\n",
    "\n",
    "# Adjust layout for better fit\n",
    "plt.tight_layout()\n",
    "\n",
    "# Show the plot\n",
    "plt.show()"
   ]
  },
  {
   "cell_type": "markdown",
   "metadata": {},
   "source": [
    "## replies "
   ]
  },
  {
   "cell_type": "code",
   "execution_count": 70,
   "metadata": {},
   "outputs": [],
   "source": [
    "def get_replies(list_of_lists):\n",
    "    pattern = r\"Replies: \\d+( View)?$\"\n",
    "    filtered_list = [sublist for sublist in list_of_lists if not re.search(pattern, sublist[0])] \n",
    "    return filtered_list\n",
    "\n",
    "replylist = get_replies(templist)"
   ]
  },
  {
   "cell_type": "code",
   "execution_count": 81,
   "metadata": {},
   "outputs": [
    {
     "data": {
      "text/html": [
       "<div>\n",
       "<style scoped>\n",
       "    .dataframe tbody tr th:only-of-type {\n",
       "        vertical-align: middle;\n",
       "    }\n",
       "\n",
       "    .dataframe tbody tr th {\n",
       "        vertical-align: top;\n",
       "    }\n",
       "\n",
       "    .dataframe thead th {\n",
       "        text-align: right;\n",
       "    }\n",
       "</style>\n",
       "<table border=\"1\" class=\"dataframe\">\n",
       "  <thead>\n",
       "    <tr style=\"text-align: right;\">\n",
       "      <th></th>\n",
       "      <th>Identifier</th>\n",
       "      <th>Text</th>\n",
       "    </tr>\n",
       "  </thead>\n",
       "  <tbody>\n",
       "    <tr>\n",
       "      <th>0</th>\n",
       "      <td>:+XF1CsQm Sat 01 Oct 2022 12:41:09 No.397853920</td>\n",
       "      <td>&gt;&gt;397853706\\nwhat is the topic, then?\\nYou're ...</td>\n",
       "    </tr>\n",
       "    <tr>\n",
       "      <th>1</th>\n",
       "      <td>:sdTLdxFE Sat 01 Oct 2022 12:28:40 No.397852409</td>\n",
       "      <td>&gt;&gt;397851060\\nHe tried to usurp Roman Paganism....</td>\n",
       "    </tr>\n",
       "    <tr>\n",
       "      <th>2</th>\n",
       "      <td>:Ytn2j+6s Sat 01 Oct 2022 10:01:18 No.397834023</td>\n",
       "      <td>&gt;&gt;397814529\\n\\nLots of anons posting ITT about...</td>\n",
       "    </tr>\n",
       "    <tr>\n",
       "      <th>3</th>\n",
       "      <td>:ZJmNPj22 Fri 30 Sep 2022 23:02:24 No.397773313</td>\n",
       "      <td>&gt;&gt;397773085\\nBlack babies are better than abor...</td>\n",
       "    </tr>\n",
       "    <tr>\n",
       "      <th>4</th>\n",
       "      <td>:sjVRzmfL Fri 30 Sep 2022 19:23:25 No.397753590</td>\n",
       "      <td>The left loves abortion and hates children due...</td>\n",
       "    </tr>\n",
       "    <tr>\n",
       "      <th>...</th>\n",
       "      <td>...</td>\n",
       "      <td>...</td>\n",
       "    </tr>\n",
       "    <tr>\n",
       "      <th>67263</th>\n",
       "      <td>:kecsvdvI Wed 30 Oct 2024 22:14:55 No.48646562...</td>\n",
       "      <td>Quoted By:\\n&gt;&gt;486464882\\nTHE CAN BARELY GASLIG...</td>\n",
       "    </tr>\n",
       "    <tr>\n",
       "      <th>67264</th>\n",
       "      <td>:EF5Mz2zI Wed 30 Oct 2024 22:02:24 No.48646490...</td>\n",
       "      <td>Quoted By:\\n&gt;&gt;486464363\\nHere's my objective a...</td>\n",
       "    </tr>\n",
       "    <tr>\n",
       "      <th>67265</th>\n",
       "      <td>:cUMz4T2R Wed 30 Oct 2024 21:55:11 No.48646451...</td>\n",
       "      <td>Quoted By:\\n&gt;&gt;486462545\\nThere are a bunch of ...</td>\n",
       "    </tr>\n",
       "    <tr>\n",
       "      <th>67266</th>\n",
       "      <td>:0egXPX4Z Wed 30 Oct 2024 21:34:59 No.48646320...</td>\n",
       "      <td>Quoted By:\\n&gt;&gt;486462545\\n&gt;But what does this m...</td>\n",
       "    </tr>\n",
       "    <tr>\n",
       "      <th>67267</th>\n",
       "      <td>:jjadV5KJ Wed 30 Oct 2024 21:07:51 No.48646135...</td>\n",
       "      <td>Quoted By:\\n&gt;&gt;486459365\\nIf you want an exampl...</td>\n",
       "    </tr>\n",
       "  </tbody>\n",
       "</table>\n",
       "<p>67268 rows × 2 columns</p>\n",
       "</div>"
      ],
      "text/plain": [
       "                                              Identifier  \\\n",
       "0        :+XF1CsQm Sat 01 Oct 2022 12:41:09 No.397853920   \n",
       "1        :sdTLdxFE Sat 01 Oct 2022 12:28:40 No.397852409   \n",
       "2        :Ytn2j+6s Sat 01 Oct 2022 10:01:18 No.397834023   \n",
       "3        :ZJmNPj22 Fri 30 Sep 2022 23:02:24 No.397773313   \n",
       "4        :sjVRzmfL Fri 30 Sep 2022 19:23:25 No.397753590   \n",
       "...                                                  ...   \n",
       "67263  :kecsvdvI Wed 30 Oct 2024 22:14:55 No.48646562...   \n",
       "67264  :EF5Mz2zI Wed 30 Oct 2024 22:02:24 No.48646490...   \n",
       "67265  :cUMz4T2R Wed 30 Oct 2024 21:55:11 No.48646451...   \n",
       "67266  :0egXPX4Z Wed 30 Oct 2024 21:34:59 No.48646320...   \n",
       "67267  :jjadV5KJ Wed 30 Oct 2024 21:07:51 No.48646135...   \n",
       "\n",
       "                                                    Text  \n",
       "0      >>397853706\\nwhat is the topic, then?\\nYou're ...  \n",
       "1      >>397851060\\nHe tried to usurp Roman Paganism....  \n",
       "2      >>397814529\\n\\nLots of anons posting ITT about...  \n",
       "3      >>397773085\\nBlack babies are better than abor...  \n",
       "4      The left loves abortion and hates children due...  \n",
       "...                                                  ...  \n",
       "67263  Quoted By:\\n>>486464882\\nTHE CAN BARELY GASLIG...  \n",
       "67264  Quoted By:\\n>>486464363\\nHere's my objective a...  \n",
       "67265  Quoted By:\\n>>486462545\\nThere are a bunch of ...  \n",
       "67266  Quoted By:\\n>>486462545\\n>But what does this m...  \n",
       "67267  Quoted By:\\n>>486459365\\nIf you want an exampl...  \n",
       "\n",
       "[67268 rows x 2 columns]"
      ]
     },
     "execution_count": 81,
     "metadata": {},
     "output_type": "execute_result"
    }
   ],
   "source": [
    "replydf = pd.DataFrame(replylist, columns=['Identifier', 'Text'])\n",
    "replydf"
   ]
  },
  {
   "cell_type": "code",
   "execution_count": 83,
   "metadata": {},
   "outputs": [],
   "source": [
    "replydf['anonid'] = replydf['Identifier'].apply(anonidget)\n",
    "replydf['date'] = replydf['Identifier'].apply(date_get)\n",
    "replydf['number'] = replydf['Identifier'].apply(threadnoget)"
   ]
  },
  {
   "cell_type": "code",
   "execution_count": 88,
   "metadata": {},
   "outputs": [],
   "source": [
    "## categorizing quoted by and removing it from the text\n",
    "def process_quotes(s):\n",
    "    if \"Quoted By\" in s: \n",
    "        return re.findall(r'>>(\\d+)\\n', s)\n",
    "    else:\n",
    "        modified_string = s  # No modification needed if \"Quoted By\" is not present\n",
    "        return \"No Quote\"\n",
    "\n",
    "replydf['Quoted_By'] = replydf['Text'].apply(process_quotes)\n",
    "\n",
    "def stripper (s): \n",
    "    if 'Quoted By' in s:\n",
    "        cleaned_string = re.sub(r'Quoted By:|>>\\d+\\n', '', s)\n",
    "        return cleaned_string.strip()\n",
    "    else: \n",
    "        return s\n",
    "\n",
    "replydf ['Text'] = replydf['Text'].apply(stripper)"
   ]
  },
  {
   "cell_type": "code",
   "execution_count": 90,
   "metadata": {},
   "outputs": [],
   "source": [
    "## getting information about which threads the poster is replying to \n",
    "replydf['replyto'] = replydf['Text'].apply(lambda text: re.findall(r'>>(\\d+)', text))"
   ]
  },
  {
   "cell_type": "code",
   "execution_count": 91,
   "metadata": {},
   "outputs": [
    {
     "data": {
      "text/html": [
       "<div>\n",
       "<style scoped>\n",
       "    .dataframe tbody tr th:only-of-type {\n",
       "        vertical-align: middle;\n",
       "    }\n",
       "\n",
       "    .dataframe tbody tr th {\n",
       "        vertical-align: top;\n",
       "    }\n",
       "\n",
       "    .dataframe thead th {\n",
       "        text-align: right;\n",
       "    }\n",
       "</style>\n",
       "<table border=\"1\" class=\"dataframe\">\n",
       "  <thead>\n",
       "    <tr style=\"text-align: right;\">\n",
       "      <th></th>\n",
       "      <th>Identifier</th>\n",
       "      <th>Text</th>\n",
       "      <th>anonid</th>\n",
       "      <th>date</th>\n",
       "      <th>number</th>\n",
       "      <th>Quoted_By</th>\n",
       "      <th>replyto</th>\n",
       "    </tr>\n",
       "  </thead>\n",
       "  <tbody>\n",
       "    <tr>\n",
       "      <th>0</th>\n",
       "      <td>:+XF1CsQm Sat 01 Oct 2022 12:41:09 No.397853920</td>\n",
       "      <td>&gt;&gt;397853706\\nwhat is the topic, then?\\nYou're ...</td>\n",
       "      <td>:+XF1CsQm</td>\n",
       "      <td>Sat 01 Oct 2022 12:41:09</td>\n",
       "      <td>397853920</td>\n",
       "      <td>No Quote</td>\n",
       "      <td>[397853706]</td>\n",
       "    </tr>\n",
       "    <tr>\n",
       "      <th>1</th>\n",
       "      <td>:sdTLdxFE Sat 01 Oct 2022 12:28:40 No.397852409</td>\n",
       "      <td>&gt;&gt;397851060\\nHe tried to usurp Roman Paganism....</td>\n",
       "      <td>:sdTLdxFE</td>\n",
       "      <td>Sat 01 Oct 2022 12:28:40</td>\n",
       "      <td>397852409</td>\n",
       "      <td>No Quote</td>\n",
       "      <td>[397851060]</td>\n",
       "    </tr>\n",
       "    <tr>\n",
       "      <th>2</th>\n",
       "      <td>:Ytn2j+6s Sat 01 Oct 2022 10:01:18 No.397834023</td>\n",
       "      <td>&gt;&gt;397814529\\n\\nLots of anons posting ITT about...</td>\n",
       "      <td>:Ytn2j+6s</td>\n",
       "      <td>Sat 01 Oct 2022 10:01:18</td>\n",
       "      <td>397834023</td>\n",
       "      <td>No Quote</td>\n",
       "      <td>[397814529]</td>\n",
       "    </tr>\n",
       "    <tr>\n",
       "      <th>3</th>\n",
       "      <td>:ZJmNPj22 Fri 30 Sep 2022 23:02:24 No.397773313</td>\n",
       "      <td>&gt;&gt;397773085\\nBlack babies are better than abor...</td>\n",
       "      <td>:ZJmNPj22</td>\n",
       "      <td>Fri 30 Sep 2022 23:02:24</td>\n",
       "      <td>397773313</td>\n",
       "      <td>No Quote</td>\n",
       "      <td>[397773085]</td>\n",
       "    </tr>\n",
       "    <tr>\n",
       "      <th>4</th>\n",
       "      <td>:sjVRzmfL Fri 30 Sep 2022 19:23:25 No.397753590</td>\n",
       "      <td>The left loves abortion and hates children due...</td>\n",
       "      <td>:sjVRzmfL</td>\n",
       "      <td>Fri 30 Sep 2022 19:23:25</td>\n",
       "      <td>397753590</td>\n",
       "      <td>No Quote</td>\n",
       "      <td>[]</td>\n",
       "    </tr>\n",
       "    <tr>\n",
       "      <th>...</th>\n",
       "      <td>...</td>\n",
       "      <td>...</td>\n",
       "      <td>...</td>\n",
       "      <td>...</td>\n",
       "      <td>...</td>\n",
       "      <td>...</td>\n",
       "      <td>...</td>\n",
       "    </tr>\n",
       "    <tr>\n",
       "      <th>67263</th>\n",
       "      <td>:kecsvdvI Wed 30 Oct 2024 22:14:55 No.48646562...</td>\n",
       "      <td>THE CAN BARELY GASLIGHT THIS WITHIN THEIR OWN ...</td>\n",
       "      <td>:kecsvdvI</td>\n",
       "      <td>Wed 30 Oct 2024 22:14:55</td>\n",
       "      <td>486465624</td>\n",
       "      <td>[486464882]</td>\n",
       "      <td>[]</td>\n",
       "    </tr>\n",
       "    <tr>\n",
       "      <th>67264</th>\n",
       "      <td>:EF5Mz2zI Wed 30 Oct 2024 22:02:24 No.48646490...</td>\n",
       "      <td>Here's my objective assessment of Stephen Mill...</td>\n",
       "      <td>:EF5Mz2zI</td>\n",
       "      <td>Wed 30 Oct 2024 22:02:24</td>\n",
       "      <td>486464907</td>\n",
       "      <td>[486464363]</td>\n",
       "      <td>[]</td>\n",
       "    </tr>\n",
       "    <tr>\n",
       "      <th>67265</th>\n",
       "      <td>:cUMz4T2R Wed 30 Oct 2024 21:55:11 No.48646451...</td>\n",
       "      <td>There are a bunch of reasons. There are many f...</td>\n",
       "      <td>:cUMz4T2R</td>\n",
       "      <td>Wed 30 Oct 2024 21:55:11</td>\n",
       "      <td>486464519</td>\n",
       "      <td>[486462545, 486517619, 486517578]</td>\n",
       "      <td>[]</td>\n",
       "    </tr>\n",
       "    <tr>\n",
       "      <th>67266</th>\n",
       "      <td>:0egXPX4Z Wed 30 Oct 2024 21:34:59 No.48646320...</td>\n",
       "      <td>&gt;But what does this mean?\\nDEI, troons, wars, ...</td>\n",
       "      <td>:0egXPX4Z</td>\n",
       "      <td>Wed 30 Oct 2024 21:34:59</td>\n",
       "      <td>486463202</td>\n",
       "      <td>[486462545]</td>\n",
       "      <td>[]</td>\n",
       "    </tr>\n",
       "    <tr>\n",
       "      <th>67267</th>\n",
       "      <td>:jjadV5KJ Wed 30 Oct 2024 21:07:51 No.48646135...</td>\n",
       "      <td>If you want an example of an actual good Jew t...</td>\n",
       "      <td>:jjadV5KJ</td>\n",
       "      <td>Wed 30 Oct 2024 21:07:51</td>\n",
       "      <td>486461353</td>\n",
       "      <td>[486459365]</td>\n",
       "      <td>[]</td>\n",
       "    </tr>\n",
       "  </tbody>\n",
       "</table>\n",
       "<p>67268 rows × 7 columns</p>\n",
       "</div>"
      ],
      "text/plain": [
       "                                              Identifier  \\\n",
       "0        :+XF1CsQm Sat 01 Oct 2022 12:41:09 No.397853920   \n",
       "1        :sdTLdxFE Sat 01 Oct 2022 12:28:40 No.397852409   \n",
       "2        :Ytn2j+6s Sat 01 Oct 2022 10:01:18 No.397834023   \n",
       "3        :ZJmNPj22 Fri 30 Sep 2022 23:02:24 No.397773313   \n",
       "4        :sjVRzmfL Fri 30 Sep 2022 19:23:25 No.397753590   \n",
       "...                                                  ...   \n",
       "67263  :kecsvdvI Wed 30 Oct 2024 22:14:55 No.48646562...   \n",
       "67264  :EF5Mz2zI Wed 30 Oct 2024 22:02:24 No.48646490...   \n",
       "67265  :cUMz4T2R Wed 30 Oct 2024 21:55:11 No.48646451...   \n",
       "67266  :0egXPX4Z Wed 30 Oct 2024 21:34:59 No.48646320...   \n",
       "67267  :jjadV5KJ Wed 30 Oct 2024 21:07:51 No.48646135...   \n",
       "\n",
       "                                                    Text     anonid  \\\n",
       "0      >>397853706\\nwhat is the topic, then?\\nYou're ...  :+XF1CsQm   \n",
       "1      >>397851060\\nHe tried to usurp Roman Paganism....  :sdTLdxFE   \n",
       "2      >>397814529\\n\\nLots of anons posting ITT about...  :Ytn2j+6s   \n",
       "3      >>397773085\\nBlack babies are better than abor...  :ZJmNPj22   \n",
       "4      The left loves abortion and hates children due...  :sjVRzmfL   \n",
       "...                                                  ...        ...   \n",
       "67263  THE CAN BARELY GASLIGHT THIS WITHIN THEIR OWN ...  :kecsvdvI   \n",
       "67264  Here's my objective assessment of Stephen Mill...  :EF5Mz2zI   \n",
       "67265  There are a bunch of reasons. There are many f...  :cUMz4T2R   \n",
       "67266  >But what does this mean?\\nDEI, troons, wars, ...  :0egXPX4Z   \n",
       "67267  If you want an example of an actual good Jew t...  :jjadV5KJ   \n",
       "\n",
       "                           date     number                          Quoted_By  \\\n",
       "0      Sat 01 Oct 2022 12:41:09  397853920                           No Quote   \n",
       "1      Sat 01 Oct 2022 12:28:40  397852409                           No Quote   \n",
       "2      Sat 01 Oct 2022 10:01:18  397834023                           No Quote   \n",
       "3      Fri 30 Sep 2022 23:02:24  397773313                           No Quote   \n",
       "4      Fri 30 Sep 2022 19:23:25  397753590                           No Quote   \n",
       "...                         ...        ...                                ...   \n",
       "67263  Wed 30 Oct 2024 22:14:55  486465624                        [486464882]   \n",
       "67264  Wed 30 Oct 2024 22:02:24  486464907                        [486464363]   \n",
       "67265  Wed 30 Oct 2024 21:55:11  486464519  [486462545, 486517619, 486517578]   \n",
       "67266  Wed 30 Oct 2024 21:34:59  486463202                        [486462545]   \n",
       "67267  Wed 30 Oct 2024 21:07:51  486461353                        [486459365]   \n",
       "\n",
       "           replyto  \n",
       "0      [397853706]  \n",
       "1      [397851060]  \n",
       "2      [397814529]  \n",
       "3      [397773085]  \n",
       "4               []  \n",
       "...            ...  \n",
       "67263           []  \n",
       "67264           []  \n",
       "67265           []  \n",
       "67266           []  \n",
       "67267           []  \n",
       "\n",
       "[67268 rows x 7 columns]"
      ]
     },
     "execution_count": 91,
     "metadata": {},
     "output_type": "execute_result"
    }
   ],
   "source": [
    "replydf"
   ]
  }
 ],
 "metadata": {
  "kernelspec": {
   "display_name": "Python 3.9.12 ('base')",
   "language": "python",
   "name": "python3"
  },
  "language_info": {
   "codemirror_mode": {
    "name": "ipython",
    "version": 3
   },
   "file_extension": ".py",
   "mimetype": "text/x-python",
   "name": "python",
   "nbconvert_exporter": "python",
   "pygments_lexer": "ipython3",
   "version": "3.9.12"
  },
  "orig_nbformat": 4,
  "vscode": {
   "interpreter": {
    "hash": "dda3671ff3204f7c08d6fd700d73245b2febe83cbc27407a5dbd57f565cde480"
   }
  }
 },
 "nbformat": 4,
 "nbformat_minor": 2
}
